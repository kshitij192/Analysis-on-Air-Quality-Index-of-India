{
 "cells": [
  {
   "cell_type": "markdown",
   "metadata": {},
   "source": [
    "### Feature selection"
   ]
  },
  {
   "cell_type": "code",
   "execution_count": 1,
   "metadata": {},
   "outputs": [
    {
     "data": {
      "text/html": [
       "<div>\n",
       "<style scoped>\n",
       "    .dataframe tbody tr th:only-of-type {\n",
       "        vertical-align: middle;\n",
       "    }\n",
       "\n",
       "    .dataframe tbody tr th {\n",
       "        vertical-align: top;\n",
       "    }\n",
       "\n",
       "    .dataframe thead th {\n",
       "        text-align: right;\n",
       "    }\n",
       "</style>\n",
       "<table border=\"1\" class=\"dataframe\">\n",
       "  <thead>\n",
       "    <tr style=\"text-align: right;\">\n",
       "      <th></th>\n",
       "      <th>id</th>\n",
       "      <th>country</th>\n",
       "      <th>state</th>\n",
       "      <th>city</th>\n",
       "      <th>station</th>\n",
       "      <th>pollutant_id</th>\n",
       "      <th>last_update</th>\n",
       "      <th>pollutant_min</th>\n",
       "      <th>pollutant_max</th>\n",
       "      <th>pollutant_avg</th>\n",
       "    </tr>\n",
       "  </thead>\n",
       "  <tbody>\n",
       "    <tr>\n",
       "      <th>0</th>\n",
       "      <td>1</td>\n",
       "      <td>India</td>\n",
       "      <td>Andhra_Pradesh</td>\n",
       "      <td>Amaravati</td>\n",
       "      <td>Secretariat, Amaravati - APPCB</td>\n",
       "      <td>PM2.5</td>\n",
       "      <td>21-10-2021 01:00:00</td>\n",
       "      <td>69.0</td>\n",
       "      <td>109.0</td>\n",
       "      <td>86.0</td>\n",
       "    </tr>\n",
       "    <tr>\n",
       "      <th>1</th>\n",
       "      <td>2</td>\n",
       "      <td>India</td>\n",
       "      <td>Andhra_Pradesh</td>\n",
       "      <td>Amaravati</td>\n",
       "      <td>Secretariat, Amaravati - APPCB</td>\n",
       "      <td>PM10</td>\n",
       "      <td>21-10-2021 01:00:00</td>\n",
       "      <td>82.0</td>\n",
       "      <td>138.0</td>\n",
       "      <td>105.0</td>\n",
       "    </tr>\n",
       "    <tr>\n",
       "      <th>2</th>\n",
       "      <td>3</td>\n",
       "      <td>India</td>\n",
       "      <td>Andhra_Pradesh</td>\n",
       "      <td>Amaravati</td>\n",
       "      <td>Secretariat, Amaravati - APPCB</td>\n",
       "      <td>NO2</td>\n",
       "      <td>21-10-2021 01:00:00</td>\n",
       "      <td>10.0</td>\n",
       "      <td>42.0</td>\n",
       "      <td>19.0</td>\n",
       "    </tr>\n",
       "    <tr>\n",
       "      <th>3</th>\n",
       "      <td>4</td>\n",
       "      <td>India</td>\n",
       "      <td>Andhra_Pradesh</td>\n",
       "      <td>Amaravati</td>\n",
       "      <td>Secretariat, Amaravati - APPCB</td>\n",
       "      <td>NH3</td>\n",
       "      <td>21-10-2021 01:00:00</td>\n",
       "      <td>4.0</td>\n",
       "      <td>5.0</td>\n",
       "      <td>4.0</td>\n",
       "    </tr>\n",
       "    <tr>\n",
       "      <th>4</th>\n",
       "      <td>5</td>\n",
       "      <td>India</td>\n",
       "      <td>Andhra_Pradesh</td>\n",
       "      <td>Amaravati</td>\n",
       "      <td>Secretariat, Amaravati - APPCB</td>\n",
       "      <td>SO2</td>\n",
       "      <td>21-10-2021 01:00:00</td>\n",
       "      <td>16.0</td>\n",
       "      <td>42.0</td>\n",
       "      <td>27.0</td>\n",
       "    </tr>\n",
       "  </tbody>\n",
       "</table>\n",
       "</div>"
      ],
      "text/plain": [
       "   id country           state       city                         station  \\\n",
       "0   1   India  Andhra_Pradesh  Amaravati  Secretariat, Amaravati - APPCB   \n",
       "1   2   India  Andhra_Pradesh  Amaravati  Secretariat, Amaravati - APPCB   \n",
       "2   3   India  Andhra_Pradesh  Amaravati  Secretariat, Amaravati - APPCB   \n",
       "3   4   India  Andhra_Pradesh  Amaravati  Secretariat, Amaravati - APPCB   \n",
       "4   5   India  Andhra_Pradesh  Amaravati  Secretariat, Amaravati - APPCB   \n",
       "\n",
       "  pollutant_id          last_update  pollutant_min  pollutant_max  \\\n",
       "0        PM2.5  21-10-2021 01:00:00           69.0          109.0   \n",
       "1         PM10  21-10-2021 01:00:00           82.0          138.0   \n",
       "2          NO2  21-10-2021 01:00:00           10.0           42.0   \n",
       "3          NH3  21-10-2021 01:00:00            4.0            5.0   \n",
       "4          SO2  21-10-2021 01:00:00           16.0           42.0   \n",
       "\n",
       "   pollutant_avg  \n",
       "0           86.0  \n",
       "1          105.0  \n",
       "2           19.0  \n",
       "3            4.0  \n",
       "4           27.0  "
      ]
     },
     "execution_count": 1,
     "metadata": {},
     "output_type": "execute_result"
    }
   ],
   "source": [
    "import matplotlib.pyplot as plt\n",
    "import seaborn as sns\n",
    "import pandas as pd\n",
    "import numpy as np\n",
    "import sklearn\n",
    "\n",
    "plt.rcParams['figure.figsize']=[8,6]\n",
    "sns.set_style('darkgrid')\n",
    "ad=pd.read_csv(r\"Air_Quality.csv\")\n",
    "ad.head()"
   ]
  },
  {
   "cell_type": "code",
   "execution_count": 3,
   "metadata": {},
   "outputs": [
    {
     "data": {
      "text/html": [
       "<div>\n",
       "<style scoped>\n",
       "    .dataframe tbody tr th:only-of-type {\n",
       "        vertical-align: middle;\n",
       "    }\n",
       "\n",
       "    .dataframe tbody tr th {\n",
       "        vertical-align: top;\n",
       "    }\n",
       "\n",
       "    .dataframe thead th {\n",
       "        text-align: right;\n",
       "    }\n",
       "</style>\n",
       "<table border=\"1\" class=\"dataframe\">\n",
       "  <thead>\n",
       "    <tr style=\"text-align: right;\">\n",
       "      <th></th>\n",
       "      <th>id</th>\n",
       "      <th>pollutant_min</th>\n",
       "      <th>pollutant_max</th>\n",
       "      <th>pollutant_avg</th>\n",
       "    </tr>\n",
       "  </thead>\n",
       "  <tbody>\n",
       "    <tr>\n",
       "      <th>id</th>\n",
       "      <td>1.000000</td>\n",
       "      <td>-0.038355</td>\n",
       "      <td>-0.034367</td>\n",
       "      <td>-0.023175</td>\n",
       "    </tr>\n",
       "    <tr>\n",
       "      <th>pollutant_min</th>\n",
       "      <td>-0.038355</td>\n",
       "      <td>1.000000</td>\n",
       "      <td>0.788666</td>\n",
       "      <td>0.892249</td>\n",
       "    </tr>\n",
       "    <tr>\n",
       "      <th>pollutant_max</th>\n",
       "      <td>-0.034367</td>\n",
       "      <td>0.788666</td>\n",
       "      <td>1.000000</td>\n",
       "      <td>0.935664</td>\n",
       "    </tr>\n",
       "    <tr>\n",
       "      <th>pollutant_avg</th>\n",
       "      <td>-0.023175</td>\n",
       "      <td>0.892249</td>\n",
       "      <td>0.935664</td>\n",
       "      <td>1.000000</td>\n",
       "    </tr>\n",
       "  </tbody>\n",
       "</table>\n",
       "</div>"
      ],
      "text/plain": [
       "                     id  pollutant_min  pollutant_max  pollutant_avg\n",
       "id             1.000000      -0.038355      -0.034367      -0.023175\n",
       "pollutant_min -0.038355       1.000000       0.788666       0.892249\n",
       "pollutant_max -0.034367       0.788666       1.000000       0.935664\n",
       "pollutant_avg -0.023175       0.892249       0.935664       1.000000"
      ]
     },
     "execution_count": 3,
     "metadata": {},
     "output_type": "execute_result"
    }
   ],
   "source": [
    "ad.corr()"
   ]
  },
  {
   "cell_type": "code",
   "execution_count": 2,
   "metadata": {},
   "outputs": [
    {
     "data": {
      "text/plain": [
       "<AxesSubplot:title={'center':'Heatmap displaying the correlations between all columns'}>"
      ]
     },
     "execution_count": 2,
     "metadata": {},
     "output_type": "execute_result"
    },
    {
     "data": {
      "image/png": "[encoded data removed]",
      "text/plain": [
       "<Figure size 576x432 with 2 Axes>"
      ]
     },
     "metadata": {},
     "output_type": "display_data"
    }
   ],
   "source": [
    "correlations = ad.corr()\n",
    "plt.figure(figsize = (8,6))\n",
    "plt.title(\"Heatmap displaying the correlations between all columns\", fontsize = 20)\n",
    "sns.heatmap(correlations, annot = True, cmap = \"mako\")"
   ]
  }
 ],
 "metadata": {
  "interpreter": {
   "hash": "916dbcbb3f70747c44a77c7bcd40155683ae19c65e1c03b4aa3499c5328201f1"
  },
  "kernelspec": {
   "display_name": "Python 3.8.10 64-bit",
   "language": "python",
   "name": "python3"
  },
  "language_info": {
   "codemirror_mode": {
    "name": "ipython",
    "version": 3
   },
   "file_extension": ".py",
   "mimetype": "text/x-python",
   "name": "python",
   "nbconvert_exporter": "python",
   "pygments_lexer": "ipython3",
   "version": "3.9.7"
  },
  "orig_nbformat": 4
 },
 "nbformat": 4,
 "nbformat_minor": 2
}
