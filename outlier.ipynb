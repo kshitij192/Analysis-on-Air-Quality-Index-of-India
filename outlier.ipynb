{
 "cells": [
  {
   "cell_type": "code",
   "execution_count": 2,
   "metadata": {},
   "outputs": [
    {
     "name": "stdout",
     "output_type": "stream",
     "text": [
      "   id country           state       city                         station  \\\n",
      "0   1   India  Andhra_Pradesh  Amaravati  Secretariat, Amaravati - APPCB   \n",
      "1   2   India  Andhra_Pradesh  Amaravati  Secretariat, Amaravati - APPCB   \n",
      "2   3   India  Andhra_Pradesh  Amaravati  Secretariat, Amaravati - APPCB   \n",
      "3   4   India  Andhra_Pradesh  Amaravati  Secretariat, Amaravati - APPCB   \n",
      "4   5   India  Andhra_Pradesh  Amaravati  Secretariat, Amaravati - APPCB   \n",
      "\n",
      "  pollutant_id          last_update  pollutant_min  pollutant_max  \\\n",
      "0        PM2.5  21-10-2021 01:00:00           69.0          109.0   \n",
      "1         PM10  21-10-2021 01:00:00           82.0          138.0   \n",
      "2          NO2  21-10-2021 01:00:00           10.0           42.0   \n",
      "3          NH3  21-10-2021 01:00:00            4.0            5.0   \n",
      "4          SO2  21-10-2021 01:00:00           16.0           42.0   \n",
      "\n",
      "   pollutant_avg  \n",
      "0           86.0  \n",
      "1          105.0  \n",
      "2           19.0  \n",
      "3            4.0  \n",
      "4           27.0  \n"
     ]
    }
   ],
   "source": [
    "import matplotlib.pyplot as plt\n",
    "import seaborn as sns\n",
    "import pandas as pd\n",
    "import numpy as np\n",
    "\n",
    "plt.rcParams['figure.figsize']=[8,6]\n",
    "sns.set_style('darkgrid')\n",
    "air_data=pd.read_csv(r\"Air_Quality.csv\")\n",
    "print(air_data.head())"
   ]
  },
  {
   "cell_type": "code",
   "execution_count": 3,
   "metadata": {},
   "outputs": [],
   "source": [
    "td_0=air_data"
   ]
  },
  {
   "cell_type": "code",
   "execution_count": 4,
   "metadata": {},
   "outputs": [
    {
     "data": {
      "text/html": [
       "<div>\n",
       "<style scoped>\n",
       "    .dataframe tbody tr th:only-of-type {\n",
       "        vertical-align: middle;\n",
       "    }\n",
       "\n",
       "    .dataframe tbody tr th {\n",
       "        vertical-align: top;\n",
       "    }\n",
       "\n",
       "    .dataframe thead th {\n",
       "        text-align: right;\n",
       "    }\n",
       "</style>\n",
       "<table border=\"1\" class=\"dataframe\">\n",
       "  <thead>\n",
       "    <tr style=\"text-align: right;\">\n",
       "      <th></th>\n",
       "      <th>id</th>\n",
       "      <th>country</th>\n",
       "      <th>state</th>\n",
       "      <th>city</th>\n",
       "      <th>station</th>\n",
       "      <th>pollutant_id</th>\n",
       "      <th>last_update</th>\n",
       "      <th>pollutant_min</th>\n",
       "      <th>pollutant_max</th>\n",
       "      <th>pollutant_avg</th>\n",
       "    </tr>\n",
       "  </thead>\n",
       "  <tbody>\n",
       "    <tr>\n",
       "      <th>30</th>\n",
       "      <td>31</td>\n",
       "      <td>India</td>\n",
       "      <td>Assam</td>\n",
       "      <td>Guwahati</td>\n",
       "      <td>Pan Bazaar, Guwahati - APCB</td>\n",
       "      <td>NH3</td>\n",
       "      <td>21-10-2021 01:00:00</td>\n",
       "      <td>1.0</td>\n",
       "      <td>4.0</td>\n",
       "      <td>2.0</td>\n",
       "    </tr>\n",
       "    <tr>\n",
       "      <th>31</th>\n",
       "      <td>32</td>\n",
       "      <td>India</td>\n",
       "      <td>Assam</td>\n",
       "      <td>Guwahati</td>\n",
       "      <td>Pan Bazaar, Guwahati - APCB</td>\n",
       "      <td>SO2</td>\n",
       "      <td>21-10-2021 01:00:00</td>\n",
       "      <td>82.0</td>\n",
       "      <td>101.0</td>\n",
       "      <td>88.0</td>\n",
       "    </tr>\n",
       "    <tr>\n",
       "      <th>32</th>\n",
       "      <td>33</td>\n",
       "      <td>India</td>\n",
       "      <td>Assam</td>\n",
       "      <td>Guwahati</td>\n",
       "      <td>Pan Bazaar, Guwahati - APCB</td>\n",
       "      <td>CO</td>\n",
       "      <td>21-10-2021 01:00:00</td>\n",
       "      <td>1.0</td>\n",
       "      <td>28.0</td>\n",
       "      <td>7.0</td>\n",
       "    </tr>\n",
       "    <tr>\n",
       "      <th>33</th>\n",
       "      <td>34</td>\n",
       "      <td>India</td>\n",
       "      <td>Assam</td>\n",
       "      <td>Guwahati</td>\n",
       "      <td>Pan Bazaar, Guwahati - APCB</td>\n",
       "      <td>OZONE</td>\n",
       "      <td>21-10-2021 01:00:00</td>\n",
       "      <td>13.0</td>\n",
       "      <td>24.0</td>\n",
       "      <td>20.0</td>\n",
       "    </tr>\n",
       "    <tr>\n",
       "      <th>34</th>\n",
       "      <td>35</td>\n",
       "      <td>India</td>\n",
       "      <td>Assam</td>\n",
       "      <td>Guwahati</td>\n",
       "      <td>Railway Colony, Guwahati - APCB</td>\n",
       "      <td>PM2.5</td>\n",
       "      <td>21-10-2021 01:00:00</td>\n",
       "      <td>2.0</td>\n",
       "      <td>38.0</td>\n",
       "      <td>11.0</td>\n",
       "    </tr>\n",
       "    <tr>\n",
       "      <th>35</th>\n",
       "      <td>36</td>\n",
       "      <td>India</td>\n",
       "      <td>Assam</td>\n",
       "      <td>Guwahati</td>\n",
       "      <td>Railway Colony, Guwahati - APCB</td>\n",
       "      <td>PM10</td>\n",
       "      <td>21-10-2021 01:00:00</td>\n",
       "      <td>6.0</td>\n",
       "      <td>32.0</td>\n",
       "      <td>14.0</td>\n",
       "    </tr>\n",
       "    <tr>\n",
       "      <th>36</th>\n",
       "      <td>37</td>\n",
       "      <td>India</td>\n",
       "      <td>Assam</td>\n",
       "      <td>Guwahati</td>\n",
       "      <td>Railway Colony, Guwahati - APCB</td>\n",
       "      <td>NO2</td>\n",
       "      <td>21-10-2021 01:00:00</td>\n",
       "      <td>5.0</td>\n",
       "      <td>5.0</td>\n",
       "      <td>5.0</td>\n",
       "    </tr>\n",
       "    <tr>\n",
       "      <th>37</th>\n",
       "      <td>38</td>\n",
       "      <td>India</td>\n",
       "      <td>Assam</td>\n",
       "      <td>Guwahati</td>\n",
       "      <td>Railway Colony, Guwahati - APCB</td>\n",
       "      <td>NH3</td>\n",
       "      <td>21-10-2021 01:00:00</td>\n",
       "      <td>1.0</td>\n",
       "      <td>1.0</td>\n",
       "      <td>1.0</td>\n",
       "    </tr>\n",
       "    <tr>\n",
       "      <th>38</th>\n",
       "      <td>39</td>\n",
       "      <td>India</td>\n",
       "      <td>Assam</td>\n",
       "      <td>Guwahati</td>\n",
       "      <td>Railway Colony, Guwahati - APCB</td>\n",
       "      <td>SO2</td>\n",
       "      <td>21-10-2021 01:00:00</td>\n",
       "      <td>37.0</td>\n",
       "      <td>40.0</td>\n",
       "      <td>38.0</td>\n",
       "    </tr>\n",
       "    <tr>\n",
       "      <th>39</th>\n",
       "      <td>40</td>\n",
       "      <td>India</td>\n",
       "      <td>Assam</td>\n",
       "      <td>Guwahati</td>\n",
       "      <td>Railway Colony, Guwahati - APCB</td>\n",
       "      <td>CO</td>\n",
       "      <td>21-10-2021 01:00:00</td>\n",
       "      <td>10.0</td>\n",
       "      <td>19.0</td>\n",
       "      <td>11.0</td>\n",
       "    </tr>\n",
       "  </tbody>\n",
       "</table>\n",
       "</div>"
      ],
      "text/plain": [
       "    id country  state      city                          station pollutant_id  \\\n",
       "30  31   India  Assam  Guwahati      Pan Bazaar, Guwahati - APCB          NH3   \n",
       "31  32   India  Assam  Guwahati      Pan Bazaar, Guwahati - APCB          SO2   \n",
       "32  33   India  Assam  Guwahati      Pan Bazaar, Guwahati - APCB           CO   \n",
       "33  34   India  Assam  Guwahati      Pan Bazaar, Guwahati - APCB        OZONE   \n",
       "34  35   India  Assam  Guwahati  Railway Colony, Guwahati - APCB        PM2.5   \n",
       "35  36   India  Assam  Guwahati  Railway Colony, Guwahati - APCB         PM10   \n",
       "36  37   India  Assam  Guwahati  Railway Colony, Guwahati - APCB          NO2   \n",
       "37  38   India  Assam  Guwahati  Railway Colony, Guwahati - APCB          NH3   \n",
       "38  39   India  Assam  Guwahati  Railway Colony, Guwahati - APCB          SO2   \n",
       "39  40   India  Assam  Guwahati  Railway Colony, Guwahati - APCB           CO   \n",
       "\n",
       "            last_update  pollutant_min  pollutant_max  pollutant_avg  \n",
       "30  21-10-2021 01:00:00            1.0            4.0            2.0  \n",
       "31  21-10-2021 01:00:00           82.0          101.0           88.0  \n",
       "32  21-10-2021 01:00:00            1.0           28.0            7.0  \n",
       "33  21-10-2021 01:00:00           13.0           24.0           20.0  \n",
       "34  21-10-2021 01:00:00            2.0           38.0           11.0  \n",
       "35  21-10-2021 01:00:00            6.0           32.0           14.0  \n",
       "36  21-10-2021 01:00:00            5.0            5.0            5.0  \n",
       "37  21-10-2021 01:00:00            1.0            1.0            1.0  \n",
       "38  21-10-2021 01:00:00           37.0           40.0           38.0  \n",
       "39  21-10-2021 01:00:00           10.0           19.0           11.0  "
      ]
     },
     "execution_count": 4,
     "metadata": {},
     "output_type": "execute_result"
    }
   ],
   "source": [
    "td_0[30:40]"
   ]
  },
  {
   "cell_type": "code",
   "execution_count": 5,
   "metadata": {},
   "outputs": [
    {
     "data": {
      "text/plain": [
       "<AxesSubplot:ylabel='pollutant_avg'>"
      ]
     },
     "execution_count": 5,
     "metadata": {},
     "output_type": "execute_result"
    },
    {
     "data": {
      "image/png": "[encoded data removed]",
      "text/plain": [
       "<Figure size 576x432 with 1 Axes>"
      ]
     },
     "metadata": {},
     "output_type": "display_data"
    }
   ],
   "source": [
    "sns.boxplot(y='pollutant_avg',data=td_0)"
   ]
  },
  {
   "cell_type": "code",
   "execution_count": 6,
   "metadata": {},
   "outputs": [
    {
     "data": {
      "text/plain": [
       "<AxesSubplot:ylabel='pollutant_min'>"
      ]
     },
     "execution_count": 6,
     "metadata": {},
     "output_type": "execute_result"
    },
    {
     "data": {
      "image/png": "[encoded data removed]",
      "text/plain": [
       "<Figure size 576x432 with 1 Axes>"
      ]
     },
     "metadata": {},
     "output_type": "display_data"
    }
   ],
   "source": [
    "sns.boxplot(y='pollutant_min',data=td_0)"
   ]
  },
  {
   "cell_type": "code",
   "execution_count": 7,
   "metadata": {},
   "outputs": [
    {
     "data": {
      "text/plain": [
       "<AxesSubplot:ylabel='pollutant_max'>"
      ]
     },
     "execution_count": 7,
     "metadata": {},
     "output_type": "execute_result"
    },
    {
     "data": {
      "image/png": "[encoded data removed]",
      "text/plain": [
       "<Figure size 576x432 with 1 Axes>"
      ]
     },
     "metadata": {},
     "output_type": "display_data"
    }
   ],
   "source": [
    "sns.boxplot(y='pollutant_max',data=td_0)"
   ]
  },
  {
   "cell_type": "code",
   "execution_count": 8,
   "metadata": {},
   "outputs": [
    {
     "name": "stdout",
     "output_type": "stream",
     "text": [
      "-46.0\n",
      "90.0\n"
     ]
    }
   ],
   "source": [
    "#finding the quartiles for min\n",
    "IQR=td_0['pollutant_min'].quantile(0.75)-td_0['pollutant_min'].quantile(0.25)\n",
    "lower_pollutant_min_limit=td_0['pollutant_min'].quantile(0.25)-(IQR*1.5)\n",
    "upper_pollutant_min_limit=td_0['pollutant_min'].quantile(0.75)+(IQR*1.5)\n",
    "print(lower_pollutant_min_limit)\n",
    "print(upper_pollutant_min_limit)"
   ]
  },
  {
   "cell_type": "code",
   "execution_count": 9,
   "metadata": {},
   "outputs": [
    {
     "name": "stdout",
     "output_type": "stream",
     "text": [
      "-75.0\n",
      "157.0\n"
     ]
    }
   ],
   "source": [
    "#finding the quartiles for avg\n",
    "IQR=td_0['pollutant_avg'].quantile(0.75)-td_0['pollutant_avg'].quantile(0.25)\n",
    "lower_pollutant_avg_limit=td_0['pollutant_avg'].quantile(0.25)-(IQR*1.5)\n",
    "upper_pollutant_avg_limit=td_0['pollutant_avg'].quantile(0.75)+(IQR*1.5)\n",
    "print(lower_pollutant_avg_limit)\n",
    "print(upper_pollutant_avg_limit)"
   ]
  },
  {
   "cell_type": "code",
   "execution_count": 10,
   "metadata": {},
   "outputs": [
    {
     "name": "stdout",
     "output_type": "stream",
     "text": [
      "-133.5\n",
      "278.5\n"
     ]
    }
   ],
   "source": [
    "#finding the quartiles for max\n",
    "IQR=td_0['pollutant_max'].quantile(0.75)-td_0['pollutant_max'].quantile(0.25)\n",
    "lower_pollutant_max_limit=td_0['pollutant_max'].quantile(0.25)-(IQR*1.5)\n",
    "upper_pollutant_max_limit=td_0['pollutant_max'].quantile(0.75)+(IQR*1.5)\n",
    "print(lower_pollutant_max_limit)\n",
    "print(upper_pollutant_max_limit)"
   ]
  },
  {
   "cell_type": "code",
   "execution_count": 11,
   "metadata": {},
   "outputs": [
    {
     "data": {
      "text/plain": [
       "array([False, False, False, False, False, False, False, False, False,\n",
       "       False, False, False, False, False, False, False, False, False,\n",
       "       False, False,  True, False, False, False, False, False, False,\n",
       "       False, False, False, False, False, False, False, False, False,\n",
       "       False, False, False])"
      ]
     },
     "execution_count": 11,
     "metadata": {},
     "output_type": "execute_result"
    }
   ],
   "source": [
    "#finding outlier values in pollutant_avg coloumn\n",
    "pollutantavg_outliers=np.where(td_0['pollutant_avg']>upper_pollutant_avg_limit,True,np.where(td_0['pollutant_avg']<lower_pollutant_avg_limit,True,False))\n",
    "pollutantavg_outliers[1:40]"
   ]
  },
  {
   "cell_type": "code",
   "execution_count": 12,
   "metadata": {},
   "outputs": [
    {
     "data": {
      "text/plain": [
       "array([False, False, False, False, False, False, False, False, False,\n",
       "       False, False, False, False, False, False, False, False, False,\n",
       "       False, False, False, False, False, False, False, False, False,\n",
       "       False, False, False, False, False, False, False, False, False,\n",
       "       False, False, False])"
      ]
     },
     "execution_count": 12,
     "metadata": {},
     "output_type": "execute_result"
    }
   ],
   "source": [
    "#finding outlier values in pollutant_min coloumn\n",
    "pollutantmin_outliers=np.where(td_0['pollutant_min']>upper_pollutant_min_limit,True,np.where(td_0['pollutant_min']<lower_pollutant_min_limit,True,False))\n",
    "pollutantmin_outliers[1:40]"
   ]
  },
  {
   "cell_type": "code",
   "execution_count": 13,
   "metadata": {},
   "outputs": [
    {
     "data": {
      "text/plain": [
       "array([False, False, False, False, False, False, False, False, False,\n",
       "       False, False, False, False, False, False, False, False, False,\n",
       "       False, False,  True, False, False, False, False, False, False,\n",
       "       False, False, False, False, False, False, False, False, False,\n",
       "       False, False, False])"
      ]
     },
     "execution_count": 13,
     "metadata": {},
     "output_type": "execute_result"
    }
   ],
   "source": [
    "#finding outlier values in pollutant_max coloumn\n",
    "pollutantmax_outliers=np.where(td_0['pollutant_max']>upper_pollutant_max_limit,True,np.where(td_0['pollutant_max']<lower_pollutant_max_limit,True,False))\n",
    "pollutantmax_outliers[1:40]"
   ]
  },
  {
   "cell_type": "code",
   "execution_count": 14,
   "metadata": {},
   "outputs": [
    {
     "data": {
      "text/plain": [
       "((1836, 10), (1681, 10))"
      ]
     },
     "execution_count": 14,
     "metadata": {},
     "output_type": "execute_result"
    }
   ],
   "source": [
    "#Outlioer trimming(removing the outlier value in pollutant_avg column)\n",
    "airquality_without_pollutantavg_outliers=td_0.loc[~(pollutantavg_outliers),]\n",
    "td_0.shape,airquality_without_pollutantavg_outliers.shape"
   ]
  },
  {
   "cell_type": "code",
   "execution_count": 15,
   "metadata": {},
   "outputs": [
    {
     "data": {
      "text/plain": [
       "((1836, 10), (1711, 10))"
      ]
     },
     "execution_count": 15,
     "metadata": {},
     "output_type": "execute_result"
    }
   ],
   "source": [
    "#Outlioer trimming(removing the outlier value in pollutant_min column)\n",
    "airquality_without_pollutantmin_outliers=td_0.loc[~(pollutantmin_outliers),]\n",
    "td_0.shape,airquality_without_pollutantmin_outliers.shape"
   ]
  },
  {
   "cell_type": "code",
   "execution_count": 16,
   "metadata": {},
   "outputs": [
    {
     "data": {
      "text/plain": [
       "((1836, 10), (1672, 10))"
      ]
     },
     "execution_count": 16,
     "metadata": {},
     "output_type": "execute_result"
    }
   ],
   "source": [
    "#Outlioer trimming(removing the outlier value in pollutant_max column)\n",
    "airquality_without_pollutantmax_outliers=td_0.loc[~(pollutantmax_outliers),]\n",
    "td_0.shape,airquality_without_pollutantmax_outliers.shape"
   ]
  },
  {
   "cell_type": "code",
   "execution_count": 17,
   "metadata": {},
   "outputs": [
    {
     "data": {
      "text/html": [
       "<div>\n",
       "<style scoped>\n",
       "    .dataframe tbody tr th:only-of-type {\n",
       "        vertical-align: middle;\n",
       "    }\n",
       "\n",
       "    .dataframe tbody tr th {\n",
       "        vertical-align: top;\n",
       "    }\n",
       "\n",
       "    .dataframe thead th {\n",
       "        text-align: right;\n",
       "    }\n",
       "</style>\n",
       "<table border=\"1\" class=\"dataframe\">\n",
       "  <thead>\n",
       "    <tr style=\"text-align: right;\">\n",
       "      <th></th>\n",
       "      <th>id</th>\n",
       "      <th>country</th>\n",
       "      <th>state</th>\n",
       "      <th>city</th>\n",
       "      <th>station</th>\n",
       "      <th>pollutant_id</th>\n",
       "      <th>last_update</th>\n",
       "      <th>pollutant_min</th>\n",
       "      <th>pollutant_max</th>\n",
       "      <th>pollutant_avg</th>\n",
       "    </tr>\n",
       "  </thead>\n",
       "  <tbody>\n",
       "    <tr>\n",
       "      <th>31</th>\n",
       "      <td>32</td>\n",
       "      <td>India</td>\n",
       "      <td>Assam</td>\n",
       "      <td>Guwahati</td>\n",
       "      <td>Pan Bazaar, Guwahati - APCB</td>\n",
       "      <td>SO2</td>\n",
       "      <td>21-10-2021 01:00:00</td>\n",
       "      <td>82.0</td>\n",
       "      <td>101.0</td>\n",
       "      <td>88.0</td>\n",
       "    </tr>\n",
       "    <tr>\n",
       "      <th>32</th>\n",
       "      <td>33</td>\n",
       "      <td>India</td>\n",
       "      <td>Assam</td>\n",
       "      <td>Guwahati</td>\n",
       "      <td>Pan Bazaar, Guwahati - APCB</td>\n",
       "      <td>CO</td>\n",
       "      <td>21-10-2021 01:00:00</td>\n",
       "      <td>1.0</td>\n",
       "      <td>28.0</td>\n",
       "      <td>7.0</td>\n",
       "    </tr>\n",
       "    <tr>\n",
       "      <th>33</th>\n",
       "      <td>34</td>\n",
       "      <td>India</td>\n",
       "      <td>Assam</td>\n",
       "      <td>Guwahati</td>\n",
       "      <td>Pan Bazaar, Guwahati - APCB</td>\n",
       "      <td>OZONE</td>\n",
       "      <td>21-10-2021 01:00:00</td>\n",
       "      <td>13.0</td>\n",
       "      <td>24.0</td>\n",
       "      <td>20.0</td>\n",
       "    </tr>\n",
       "    <tr>\n",
       "      <th>34</th>\n",
       "      <td>35</td>\n",
       "      <td>India</td>\n",
       "      <td>Assam</td>\n",
       "      <td>Guwahati</td>\n",
       "      <td>Railway Colony, Guwahati - APCB</td>\n",
       "      <td>PM2.5</td>\n",
       "      <td>21-10-2021 01:00:00</td>\n",
       "      <td>2.0</td>\n",
       "      <td>38.0</td>\n",
       "      <td>11.0</td>\n",
       "    </tr>\n",
       "    <tr>\n",
       "      <th>35</th>\n",
       "      <td>36</td>\n",
       "      <td>India</td>\n",
       "      <td>Assam</td>\n",
       "      <td>Guwahati</td>\n",
       "      <td>Railway Colony, Guwahati - APCB</td>\n",
       "      <td>PM10</td>\n",
       "      <td>21-10-2021 01:00:00</td>\n",
       "      <td>6.0</td>\n",
       "      <td>32.0</td>\n",
       "      <td>14.0</td>\n",
       "    </tr>\n",
       "    <tr>\n",
       "      <th>36</th>\n",
       "      <td>37</td>\n",
       "      <td>India</td>\n",
       "      <td>Assam</td>\n",
       "      <td>Guwahati</td>\n",
       "      <td>Railway Colony, Guwahati - APCB</td>\n",
       "      <td>NO2</td>\n",
       "      <td>21-10-2021 01:00:00</td>\n",
       "      <td>5.0</td>\n",
       "      <td>5.0</td>\n",
       "      <td>5.0</td>\n",
       "    </tr>\n",
       "    <tr>\n",
       "      <th>37</th>\n",
       "      <td>38</td>\n",
       "      <td>India</td>\n",
       "      <td>Assam</td>\n",
       "      <td>Guwahati</td>\n",
       "      <td>Railway Colony, Guwahati - APCB</td>\n",
       "      <td>NH3</td>\n",
       "      <td>21-10-2021 01:00:00</td>\n",
       "      <td>1.0</td>\n",
       "      <td>1.0</td>\n",
       "      <td>1.0</td>\n",
       "    </tr>\n",
       "    <tr>\n",
       "      <th>38</th>\n",
       "      <td>39</td>\n",
       "      <td>India</td>\n",
       "      <td>Assam</td>\n",
       "      <td>Guwahati</td>\n",
       "      <td>Railway Colony, Guwahati - APCB</td>\n",
       "      <td>SO2</td>\n",
       "      <td>21-10-2021 01:00:00</td>\n",
       "      <td>37.0</td>\n",
       "      <td>40.0</td>\n",
       "      <td>38.0</td>\n",
       "    </tr>\n",
       "    <tr>\n",
       "      <th>39</th>\n",
       "      <td>40</td>\n",
       "      <td>India</td>\n",
       "      <td>Assam</td>\n",
       "      <td>Guwahati</td>\n",
       "      <td>Railway Colony, Guwahati - APCB</td>\n",
       "      <td>CO</td>\n",
       "      <td>21-10-2021 01:00:00</td>\n",
       "      <td>10.0</td>\n",
       "      <td>19.0</td>\n",
       "      <td>11.0</td>\n",
       "    </tr>\n",
       "    <tr>\n",
       "      <th>40</th>\n",
       "      <td>41</td>\n",
       "      <td>India</td>\n",
       "      <td>Assam</td>\n",
       "      <td>Guwahati</td>\n",
       "      <td>Railway Colony, Guwahati - APCB</td>\n",
       "      <td>OZONE</td>\n",
       "      <td>21-10-2021 01:00:00</td>\n",
       "      <td>18.0</td>\n",
       "      <td>21.0</td>\n",
       "      <td>20.0</td>\n",
       "    </tr>\n",
       "  </tbody>\n",
       "</table>\n",
       "</div>"
      ],
      "text/plain": [
       "    id country  state      city                          station pollutant_id  \\\n",
       "31  32   India  Assam  Guwahati      Pan Bazaar, Guwahati - APCB          SO2   \n",
       "32  33   India  Assam  Guwahati      Pan Bazaar, Guwahati - APCB           CO   \n",
       "33  34   India  Assam  Guwahati      Pan Bazaar, Guwahati - APCB        OZONE   \n",
       "34  35   India  Assam  Guwahati  Railway Colony, Guwahati - APCB        PM2.5   \n",
       "35  36   India  Assam  Guwahati  Railway Colony, Guwahati - APCB         PM10   \n",
       "36  37   India  Assam  Guwahati  Railway Colony, Guwahati - APCB          NO2   \n",
       "37  38   India  Assam  Guwahati  Railway Colony, Guwahati - APCB          NH3   \n",
       "38  39   India  Assam  Guwahati  Railway Colony, Guwahati - APCB          SO2   \n",
       "39  40   India  Assam  Guwahati  Railway Colony, Guwahati - APCB           CO   \n",
       "40  41   India  Assam  Guwahati  Railway Colony, Guwahati - APCB        OZONE   \n",
       "\n",
       "            last_update  pollutant_min  pollutant_max  pollutant_avg  \n",
       "31  21-10-2021 01:00:00           82.0          101.0           88.0  \n",
       "32  21-10-2021 01:00:00            1.0           28.0            7.0  \n",
       "33  21-10-2021 01:00:00           13.0           24.0           20.0  \n",
       "34  21-10-2021 01:00:00            2.0           38.0           11.0  \n",
       "35  21-10-2021 01:00:00            6.0           32.0           14.0  \n",
       "36  21-10-2021 01:00:00            5.0            5.0            5.0  \n",
       "37  21-10-2021 01:00:00            1.0            1.0            1.0  \n",
       "38  21-10-2021 01:00:00           37.0           40.0           38.0  \n",
       "39  21-10-2021 01:00:00           10.0           19.0           11.0  \n",
       "40  21-10-2021 01:00:00           18.0           21.0           20.0  "
      ]
     },
     "execution_count": 17,
     "metadata": {},
     "output_type": "execute_result"
    }
   ],
   "source": [
    "airquality_without_pollutantavg_outliers[30:40]"
   ]
  },
  {
   "cell_type": "code",
   "execution_count": 18,
   "metadata": {},
   "outputs": [
    {
     "data": {
      "text/html": [
       "<div>\n",
       "<style scoped>\n",
       "    .dataframe tbody tr th:only-of-type {\n",
       "        vertical-align: middle;\n",
       "    }\n",
       "\n",
       "    .dataframe tbody tr th {\n",
       "        vertical-align: top;\n",
       "    }\n",
       "\n",
       "    .dataframe thead th {\n",
       "        text-align: right;\n",
       "    }\n",
       "</style>\n",
       "<table border=\"1\" class=\"dataframe\">\n",
       "  <thead>\n",
       "    <tr style=\"text-align: right;\">\n",
       "      <th></th>\n",
       "      <th>id</th>\n",
       "      <th>country</th>\n",
       "      <th>state</th>\n",
       "      <th>city</th>\n",
       "      <th>station</th>\n",
       "      <th>pollutant_id</th>\n",
       "      <th>last_update</th>\n",
       "      <th>pollutant_min</th>\n",
       "      <th>pollutant_max</th>\n",
       "      <th>pollutant_avg</th>\n",
       "    </tr>\n",
       "  </thead>\n",
       "  <tbody>\n",
       "    <tr>\n",
       "      <th>30</th>\n",
       "      <td>31</td>\n",
       "      <td>India</td>\n",
       "      <td>Assam</td>\n",
       "      <td>Guwahati</td>\n",
       "      <td>Pan Bazaar, Guwahati - APCB</td>\n",
       "      <td>NH3</td>\n",
       "      <td>21-10-2021 01:00:00</td>\n",
       "      <td>1.0</td>\n",
       "      <td>4.0</td>\n",
       "      <td>2.0</td>\n",
       "    </tr>\n",
       "    <tr>\n",
       "      <th>31</th>\n",
       "      <td>32</td>\n",
       "      <td>India</td>\n",
       "      <td>Assam</td>\n",
       "      <td>Guwahati</td>\n",
       "      <td>Pan Bazaar, Guwahati - APCB</td>\n",
       "      <td>SO2</td>\n",
       "      <td>21-10-2021 01:00:00</td>\n",
       "      <td>82.0</td>\n",
       "      <td>101.0</td>\n",
       "      <td>88.0</td>\n",
       "    </tr>\n",
       "    <tr>\n",
       "      <th>32</th>\n",
       "      <td>33</td>\n",
       "      <td>India</td>\n",
       "      <td>Assam</td>\n",
       "      <td>Guwahati</td>\n",
       "      <td>Pan Bazaar, Guwahati - APCB</td>\n",
       "      <td>CO</td>\n",
       "      <td>21-10-2021 01:00:00</td>\n",
       "      <td>1.0</td>\n",
       "      <td>28.0</td>\n",
       "      <td>7.0</td>\n",
       "    </tr>\n",
       "    <tr>\n",
       "      <th>33</th>\n",
       "      <td>34</td>\n",
       "      <td>India</td>\n",
       "      <td>Assam</td>\n",
       "      <td>Guwahati</td>\n",
       "      <td>Pan Bazaar, Guwahati - APCB</td>\n",
       "      <td>OZONE</td>\n",
       "      <td>21-10-2021 01:00:00</td>\n",
       "      <td>13.0</td>\n",
       "      <td>24.0</td>\n",
       "      <td>20.0</td>\n",
       "    </tr>\n",
       "    <tr>\n",
       "      <th>34</th>\n",
       "      <td>35</td>\n",
       "      <td>India</td>\n",
       "      <td>Assam</td>\n",
       "      <td>Guwahati</td>\n",
       "      <td>Railway Colony, Guwahati - APCB</td>\n",
       "      <td>PM2.5</td>\n",
       "      <td>21-10-2021 01:00:00</td>\n",
       "      <td>2.0</td>\n",
       "      <td>38.0</td>\n",
       "      <td>11.0</td>\n",
       "    </tr>\n",
       "    <tr>\n",
       "      <th>35</th>\n",
       "      <td>36</td>\n",
       "      <td>India</td>\n",
       "      <td>Assam</td>\n",
       "      <td>Guwahati</td>\n",
       "      <td>Railway Colony, Guwahati - APCB</td>\n",
       "      <td>PM10</td>\n",
       "      <td>21-10-2021 01:00:00</td>\n",
       "      <td>6.0</td>\n",
       "      <td>32.0</td>\n",
       "      <td>14.0</td>\n",
       "    </tr>\n",
       "    <tr>\n",
       "      <th>36</th>\n",
       "      <td>37</td>\n",
       "      <td>India</td>\n",
       "      <td>Assam</td>\n",
       "      <td>Guwahati</td>\n",
       "      <td>Railway Colony, Guwahati - APCB</td>\n",
       "      <td>NO2</td>\n",
       "      <td>21-10-2021 01:00:00</td>\n",
       "      <td>5.0</td>\n",
       "      <td>5.0</td>\n",
       "      <td>5.0</td>\n",
       "    </tr>\n",
       "    <tr>\n",
       "      <th>37</th>\n",
       "      <td>38</td>\n",
       "      <td>India</td>\n",
       "      <td>Assam</td>\n",
       "      <td>Guwahati</td>\n",
       "      <td>Railway Colony, Guwahati - APCB</td>\n",
       "      <td>NH3</td>\n",
       "      <td>21-10-2021 01:00:00</td>\n",
       "      <td>1.0</td>\n",
       "      <td>1.0</td>\n",
       "      <td>1.0</td>\n",
       "    </tr>\n",
       "    <tr>\n",
       "      <th>38</th>\n",
       "      <td>39</td>\n",
       "      <td>India</td>\n",
       "      <td>Assam</td>\n",
       "      <td>Guwahati</td>\n",
       "      <td>Railway Colony, Guwahati - APCB</td>\n",
       "      <td>SO2</td>\n",
       "      <td>21-10-2021 01:00:00</td>\n",
       "      <td>37.0</td>\n",
       "      <td>40.0</td>\n",
       "      <td>38.0</td>\n",
       "    </tr>\n",
       "    <tr>\n",
       "      <th>39</th>\n",
       "      <td>40</td>\n",
       "      <td>India</td>\n",
       "      <td>Assam</td>\n",
       "      <td>Guwahati</td>\n",
       "      <td>Railway Colony, Guwahati - APCB</td>\n",
       "      <td>CO</td>\n",
       "      <td>21-10-2021 01:00:00</td>\n",
       "      <td>10.0</td>\n",
       "      <td>19.0</td>\n",
       "      <td>11.0</td>\n",
       "    </tr>\n",
       "  </tbody>\n",
       "</table>\n",
       "</div>"
      ],
      "text/plain": [
       "    id country  state      city                          station pollutant_id  \\\n",
       "30  31   India  Assam  Guwahati      Pan Bazaar, Guwahati - APCB          NH3   \n",
       "31  32   India  Assam  Guwahati      Pan Bazaar, Guwahati - APCB          SO2   \n",
       "32  33   India  Assam  Guwahati      Pan Bazaar, Guwahati - APCB           CO   \n",
       "33  34   India  Assam  Guwahati      Pan Bazaar, Guwahati - APCB        OZONE   \n",
       "34  35   India  Assam  Guwahati  Railway Colony, Guwahati - APCB        PM2.5   \n",
       "35  36   India  Assam  Guwahati  Railway Colony, Guwahati - APCB         PM10   \n",
       "36  37   India  Assam  Guwahati  Railway Colony, Guwahati - APCB          NO2   \n",
       "37  38   India  Assam  Guwahati  Railway Colony, Guwahati - APCB          NH3   \n",
       "38  39   India  Assam  Guwahati  Railway Colony, Guwahati - APCB          SO2   \n",
       "39  40   India  Assam  Guwahati  Railway Colony, Guwahati - APCB           CO   \n",
       "\n",
       "            last_update  pollutant_min  pollutant_max  pollutant_avg  \n",
       "30  21-10-2021 01:00:00            1.0            4.0            2.0  \n",
       "31  21-10-2021 01:00:00           82.0          101.0           88.0  \n",
       "32  21-10-2021 01:00:00            1.0           28.0            7.0  \n",
       "33  21-10-2021 01:00:00           13.0           24.0           20.0  \n",
       "34  21-10-2021 01:00:00            2.0           38.0           11.0  \n",
       "35  21-10-2021 01:00:00            6.0           32.0           14.0  \n",
       "36  21-10-2021 01:00:00            5.0            5.0            5.0  \n",
       "37  21-10-2021 01:00:00            1.0            1.0            1.0  \n",
       "38  21-10-2021 01:00:00           37.0           40.0           38.0  \n",
       "39  21-10-2021 01:00:00           10.0           19.0           11.0  "
      ]
     },
     "execution_count": 18,
     "metadata": {},
     "output_type": "execute_result"
    }
   ],
   "source": [
    "airquality_without_pollutantmin_outliers[30:40]"
   ]
  },
  {
   "cell_type": "code",
   "execution_count": 19,
   "metadata": {},
   "outputs": [
    {
     "data": {
      "text/html": [
       "<div>\n",
       "<style scoped>\n",
       "    .dataframe tbody tr th:only-of-type {\n",
       "        vertical-align: middle;\n",
       "    }\n",
       "\n",
       "    .dataframe tbody tr th {\n",
       "        vertical-align: top;\n",
       "    }\n",
       "\n",
       "    .dataframe thead th {\n",
       "        text-align: right;\n",
       "    }\n",
       "</style>\n",
       "<table border=\"1\" class=\"dataframe\">\n",
       "  <thead>\n",
       "    <tr style=\"text-align: right;\">\n",
       "      <th></th>\n",
       "      <th>id</th>\n",
       "      <th>country</th>\n",
       "      <th>state</th>\n",
       "      <th>city</th>\n",
       "      <th>station</th>\n",
       "      <th>pollutant_id</th>\n",
       "      <th>last_update</th>\n",
       "      <th>pollutant_min</th>\n",
       "      <th>pollutant_max</th>\n",
       "      <th>pollutant_avg</th>\n",
       "    </tr>\n",
       "  </thead>\n",
       "  <tbody>\n",
       "    <tr>\n",
       "      <th>31</th>\n",
       "      <td>32</td>\n",
       "      <td>India</td>\n",
       "      <td>Assam</td>\n",
       "      <td>Guwahati</td>\n",
       "      <td>Pan Bazaar, Guwahati - APCB</td>\n",
       "      <td>SO2</td>\n",
       "      <td>21-10-2021 01:00:00</td>\n",
       "      <td>82.0</td>\n",
       "      <td>101.0</td>\n",
       "      <td>88.0</td>\n",
       "    </tr>\n",
       "    <tr>\n",
       "      <th>32</th>\n",
       "      <td>33</td>\n",
       "      <td>India</td>\n",
       "      <td>Assam</td>\n",
       "      <td>Guwahati</td>\n",
       "      <td>Pan Bazaar, Guwahati - APCB</td>\n",
       "      <td>CO</td>\n",
       "      <td>21-10-2021 01:00:00</td>\n",
       "      <td>1.0</td>\n",
       "      <td>28.0</td>\n",
       "      <td>7.0</td>\n",
       "    </tr>\n",
       "    <tr>\n",
       "      <th>33</th>\n",
       "      <td>34</td>\n",
       "      <td>India</td>\n",
       "      <td>Assam</td>\n",
       "      <td>Guwahati</td>\n",
       "      <td>Pan Bazaar, Guwahati - APCB</td>\n",
       "      <td>OZONE</td>\n",
       "      <td>21-10-2021 01:00:00</td>\n",
       "      <td>13.0</td>\n",
       "      <td>24.0</td>\n",
       "      <td>20.0</td>\n",
       "    </tr>\n",
       "    <tr>\n",
       "      <th>34</th>\n",
       "      <td>35</td>\n",
       "      <td>India</td>\n",
       "      <td>Assam</td>\n",
       "      <td>Guwahati</td>\n",
       "      <td>Railway Colony, Guwahati - APCB</td>\n",
       "      <td>PM2.5</td>\n",
       "      <td>21-10-2021 01:00:00</td>\n",
       "      <td>2.0</td>\n",
       "      <td>38.0</td>\n",
       "      <td>11.0</td>\n",
       "    </tr>\n",
       "    <tr>\n",
       "      <th>35</th>\n",
       "      <td>36</td>\n",
       "      <td>India</td>\n",
       "      <td>Assam</td>\n",
       "      <td>Guwahati</td>\n",
       "      <td>Railway Colony, Guwahati - APCB</td>\n",
       "      <td>PM10</td>\n",
       "      <td>21-10-2021 01:00:00</td>\n",
       "      <td>6.0</td>\n",
       "      <td>32.0</td>\n",
       "      <td>14.0</td>\n",
       "    </tr>\n",
       "    <tr>\n",
       "      <th>36</th>\n",
       "      <td>37</td>\n",
       "      <td>India</td>\n",
       "      <td>Assam</td>\n",
       "      <td>Guwahati</td>\n",
       "      <td>Railway Colony, Guwahati - APCB</td>\n",
       "      <td>NO2</td>\n",
       "      <td>21-10-2021 01:00:00</td>\n",
       "      <td>5.0</td>\n",
       "      <td>5.0</td>\n",
       "      <td>5.0</td>\n",
       "    </tr>\n",
       "    <tr>\n",
       "      <th>37</th>\n",
       "      <td>38</td>\n",
       "      <td>India</td>\n",
       "      <td>Assam</td>\n",
       "      <td>Guwahati</td>\n",
       "      <td>Railway Colony, Guwahati - APCB</td>\n",
       "      <td>NH3</td>\n",
       "      <td>21-10-2021 01:00:00</td>\n",
       "      <td>1.0</td>\n",
       "      <td>1.0</td>\n",
       "      <td>1.0</td>\n",
       "    </tr>\n",
       "    <tr>\n",
       "      <th>38</th>\n",
       "      <td>39</td>\n",
       "      <td>India</td>\n",
       "      <td>Assam</td>\n",
       "      <td>Guwahati</td>\n",
       "      <td>Railway Colony, Guwahati - APCB</td>\n",
       "      <td>SO2</td>\n",
       "      <td>21-10-2021 01:00:00</td>\n",
       "      <td>37.0</td>\n",
       "      <td>40.0</td>\n",
       "      <td>38.0</td>\n",
       "    </tr>\n",
       "    <tr>\n",
       "      <th>39</th>\n",
       "      <td>40</td>\n",
       "      <td>India</td>\n",
       "      <td>Assam</td>\n",
       "      <td>Guwahati</td>\n",
       "      <td>Railway Colony, Guwahati - APCB</td>\n",
       "      <td>CO</td>\n",
       "      <td>21-10-2021 01:00:00</td>\n",
       "      <td>10.0</td>\n",
       "      <td>19.0</td>\n",
       "      <td>11.0</td>\n",
       "    </tr>\n",
       "    <tr>\n",
       "      <th>40</th>\n",
       "      <td>41</td>\n",
       "      <td>India</td>\n",
       "      <td>Assam</td>\n",
       "      <td>Guwahati</td>\n",
       "      <td>Railway Colony, Guwahati - APCB</td>\n",
       "      <td>OZONE</td>\n",
       "      <td>21-10-2021 01:00:00</td>\n",
       "      <td>18.0</td>\n",
       "      <td>21.0</td>\n",
       "      <td>20.0</td>\n",
       "    </tr>\n",
       "  </tbody>\n",
       "</table>\n",
       "</div>"
      ],
      "text/plain": [
       "    id country  state      city                          station pollutant_id  \\\n",
       "31  32   India  Assam  Guwahati      Pan Bazaar, Guwahati - APCB          SO2   \n",
       "32  33   India  Assam  Guwahati      Pan Bazaar, Guwahati - APCB           CO   \n",
       "33  34   India  Assam  Guwahati      Pan Bazaar, Guwahati - APCB        OZONE   \n",
       "34  35   India  Assam  Guwahati  Railway Colony, Guwahati - APCB        PM2.5   \n",
       "35  36   India  Assam  Guwahati  Railway Colony, Guwahati - APCB         PM10   \n",
       "36  37   India  Assam  Guwahati  Railway Colony, Guwahati - APCB          NO2   \n",
       "37  38   India  Assam  Guwahati  Railway Colony, Guwahati - APCB          NH3   \n",
       "38  39   India  Assam  Guwahati  Railway Colony, Guwahati - APCB          SO2   \n",
       "39  40   India  Assam  Guwahati  Railway Colony, Guwahati - APCB           CO   \n",
       "40  41   India  Assam  Guwahati  Railway Colony, Guwahati - APCB        OZONE   \n",
       "\n",
       "            last_update  pollutant_min  pollutant_max  pollutant_avg  \n",
       "31  21-10-2021 01:00:00           82.0          101.0           88.0  \n",
       "32  21-10-2021 01:00:00            1.0           28.0            7.0  \n",
       "33  21-10-2021 01:00:00           13.0           24.0           20.0  \n",
       "34  21-10-2021 01:00:00            2.0           38.0           11.0  \n",
       "35  21-10-2021 01:00:00            6.0           32.0           14.0  \n",
       "36  21-10-2021 01:00:00            5.0            5.0            5.0  \n",
       "37  21-10-2021 01:00:00            1.0            1.0            1.0  \n",
       "38  21-10-2021 01:00:00           37.0           40.0           38.0  \n",
       "39  21-10-2021 01:00:00           10.0           19.0           11.0  \n",
       "40  21-10-2021 01:00:00           18.0           21.0           20.0  "
      ]
     },
     "execution_count": 19,
     "metadata": {},
     "output_type": "execute_result"
    }
   ],
   "source": [
    "airquality_without_pollutantmax_outliers[30:40]"
   ]
  },
  {
   "cell_type": "code",
   "execution_count": 20,
   "metadata": {},
   "outputs": [
    {
     "data": {
      "text/plain": [
       "<AxesSubplot:ylabel='pollutant_avg'>"
      ]
     },
     "execution_count": 20,
     "metadata": {},
     "output_type": "execute_result"
    },
    {
     "data": {
      "image/png": "[encoded data removed]",
      "text/plain": [
       "<Figure size 576x432 with 1 Axes>"
      ]
     },
     "metadata": {},
     "output_type": "display_data"
    }
   ],
   "source": [
    "#plot boxplot for pollutant_avg column after removing outlier\n",
    "sns.boxplot(y='pollutant_avg',data=airquality_without_pollutantavg_outliers)"
   ]
  },
  {
   "cell_type": "code",
   "execution_count": 21,
   "metadata": {},
   "outputs": [
    {
     "data": {
      "text/plain": [
       "<AxesSubplot:ylabel='pollutant_min'>"
      ]
     },
     "execution_count": 21,
     "metadata": {},
     "output_type": "execute_result"
    },
    {
     "data": {
      "image/png": "[encoded data removed]",
      "text/plain": [
       "<Figure size 576x432 with 1 Axes>"
      ]
     },
     "metadata": {},
     "output_type": "display_data"
    }
   ],
   "source": [
    "#plot boxplot for pollutant_min column after removing outlier\n",
    "sns.boxplot(y='pollutant_min',data=airquality_without_pollutantmin_outliers)"
   ]
  },
  {
   "cell_type": "code",
   "execution_count": 22,
   "metadata": {},
   "outputs": [
    {
     "data": {
      "text/plain": [
       "<AxesSubplot:ylabel='pollutant_max'>"
      ]
     },
     "execution_count": 22,
     "metadata": {},
     "output_type": "execute_result"
    },
    {
     "data": {
      "image/png": "[encoded data removed]",
      "text/plain": [
       "<Figure size 576x432 with 1 Axes>"
      ]
     },
     "metadata": {},
     "output_type": "display_data"
    }
   ],
   "source": [
    "#plot boxplot for pollutant_max column after removing outlier\n",
    "sns.boxplot(y='pollutant_max',data=airquality_without_pollutantmax_outliers)"
   ]
  },
  {
   "cell_type": "markdown",
   "metadata": {},
   "source": [
    "## Outliers capping"
   ]
  },
  {
   "cell_type": "markdown",
   "metadata": {},
   "source": [
    "### Outlier capping using IQR"
   ]
  },
  {
   "cell_type": "code",
   "execution_count": 23,
   "metadata": {},
   "outputs": [
    {
     "data": {
      "text/plain": [
       "<AxesSubplot:ylabel='pollutant_avg'>"
      ]
     },
     "execution_count": 23,
     "metadata": {},
     "output_type": "execute_result"
    },
    {
     "data": {
      "image/png": "[encoded data removed]",
      "text/plain": [
       "<Figure size 576x432 with 1 Axes>"
      ]
     },
     "metadata": {},
     "output_type": "display_data"
    }
   ],
   "source": [
    "#boxplot for the pollutant_avg column in air quality dataset\n",
    "sns.boxplot(y='pollutant_avg',data=td_0)"
   ]
  },
  {
   "cell_type": "code",
   "execution_count": 24,
   "metadata": {},
   "outputs": [
    {
     "data": {
      "text/plain": [
       "<AxesSubplot:ylabel='pollutant_min'>"
      ]
     },
     "execution_count": 24,
     "metadata": {},
     "output_type": "execute_result"
    },
    {
     "data": {
      "image/png": "[encoded data removed]",
      "text/plain": [
       "<Figure size 576x432 with 1 Axes>"
      ]
     },
     "metadata": {},
     "output_type": "display_data"
    }
   ],
   "source": [
    "#boxplot for the pollutant_min column in air quality dataset\n",
    "sns.boxplot(y='pollutant_min',data=td_0)"
   ]
  },
  {
   "cell_type": "code",
   "execution_count": 25,
   "metadata": {},
   "outputs": [
    {
     "data": {
      "text/plain": [
       "<AxesSubplot:ylabel='pollutant_max'>"
      ]
     },
     "execution_count": 25,
     "metadata": {},
     "output_type": "execute_result"
    },
    {
     "data": {
      "image/png": "[encoded data removed]",
      "text/plain": [
       "<Figure size 576x432 with 1 Axes>"
      ]
     },
     "metadata": {},
     "output_type": "display_data"
    }
   ],
   "source": [
    "#boxplot for the pollutant_max column in air quality dataset\n",
    "sns.boxplot(y='pollutant_max',data=td_0)"
   ]
  },
  {
   "cell_type": "code",
   "execution_count": 26,
   "metadata": {},
   "outputs": [
    {
     "name": "stderr",
     "output_type": "stream",
     "text": [
      "C:\\Users\\kshit\\AppData\\Local\\Programs\\Python\\Python39\\lib\\site-packages\\seaborn\\distributions.py:2619: FutureWarning: `distplot` is a deprecated function and will be removed in a future version. Please adapt your code to use either `displot` (a figure-level function with similar flexibility) or `histplot` (an axes-level function for histograms).\n",
      "  warnings.warn(msg, FutureWarning)\n"
     ]
    },
    {
     "data": {
      "text/plain": [
       "<AxesSubplot:xlabel='pollutant_avg', ylabel='Density'>"
      ]
     },
     "execution_count": 26,
     "metadata": {},
     "output_type": "execute_result"
    },
    {
     "data": {
      "image/png": "[encoded data removed]",
      "text/plain": [
       "<Figure size 576x432 with 1 Axes>"
      ]
     },
     "metadata": {},
     "output_type": "display_data"
    }
   ],
   "source": [
    "sns.distplot(td_0['pollutant_avg'])"
   ]
  },
  {
   "cell_type": "code",
   "execution_count": 27,
   "metadata": {},
   "outputs": [
    {
     "name": "stderr",
     "output_type": "stream",
     "text": [
      "C:\\Users\\kshit\\AppData\\Local\\Programs\\Python\\Python39\\lib\\site-packages\\seaborn\\distributions.py:2619: FutureWarning: `distplot` is a deprecated function and will be removed in a future version. Please adapt your code to use either `displot` (a figure-level function with similar flexibility) or `histplot` (an axes-level function for histograms).\n",
      "  warnings.warn(msg, FutureWarning)\n"
     ]
    },
    {
     "data": {
      "text/plain": [
       "<AxesSubplot:xlabel='pollutant_min', ylabel='Density'>"
      ]
     },
     "execution_count": 27,
     "metadata": {},
     "output_type": "execute_result"
    },
    {
     "data": {
      "image/png": "[encoded data removed]",
      "text/plain": [
       "<Figure size 576x432 with 1 Axes>"
      ]
     },
     "metadata": {},
     "output_type": "display_data"
    }
   ],
   "source": [
    "sns.distplot(td_0['pollutant_min'])"
   ]
  },
  {
   "cell_type": "code",
   "execution_count": 28,
   "metadata": {},
   "outputs": [
    {
     "name": "stderr",
     "output_type": "stream",
     "text": [
      "C:\\Users\\kshit\\AppData\\Local\\Programs\\Python\\Python39\\lib\\site-packages\\seaborn\\distributions.py:2619: FutureWarning: `distplot` is a deprecated function and will be removed in a future version. Please adapt your code to use either `displot` (a figure-level function with similar flexibility) or `histplot` (an axes-level function for histograms).\n",
      "  warnings.warn(msg, FutureWarning)\n"
     ]
    },
    {
     "data": {
      "text/plain": [
       "<AxesSubplot:xlabel='pollutant_max', ylabel='Density'>"
      ]
     },
     "execution_count": 28,
     "metadata": {},
     "output_type": "execute_result"
    },
    {
     "data": {
      "image/png": "[encoded data removed]",
      "text/plain": [
       "<Figure size 576x432 with 1 Axes>"
      ]
     },
     "metadata": {},
     "output_type": "display_data"
    }
   ],
   "source": [
    "sns.distplot(td_0['pollutant_max'])"
   ]
  },
  {
   "cell_type": "code",
   "execution_count": 29,
   "metadata": {},
   "outputs": [
    {
     "name": "stdout",
     "output_type": "stream",
     "text": [
      "-75.0\n",
      "157.0\n"
     ]
    }
   ],
   "source": [
    "IQR = td_0[\"pollutant_avg\"].quantile (0.75) - td_0[\"pollutant_avg\"].quantile(0.25) \n",
    "lower_pollutant_limit= td_0[\"pollutant_avg\"].quantile (0.25)- (IQR *1.5)\n",
    "upper_pollutant_limit = td_0[\"pollutant_avg\"].quantile (0.75) +(IQR *1.5)\n",
    "print (lower_pollutant_limit)\n",
    "print (upper_pollutant_limit)"
   ]
  },
  {
   "cell_type": "code",
   "execution_count": 30,
   "metadata": {},
   "outputs": [
    {
     "name": "stdout",
     "output_type": "stream",
     "text": [
      "-46.0\n",
      "90.0\n"
     ]
    }
   ],
   "source": [
    "IQR = td_0[\"pollutant_min\"].quantile (0.75) - td_0[\"pollutant_min\"].quantile(0.25) \n",
    "lower_pollutant_min_limit= td_0[\"pollutant_min\"].quantile (0.25)- (IQR *1.5)\n",
    "upper_pollutant_min_limit = td_0[\"pollutant_min\"].quantile (0.75) +(IQR *1.5)\n",
    "print (lower_pollutant_min_limit)\n",
    "print (upper_pollutant_min_limit)"
   ]
  },
  {
   "cell_type": "code",
   "execution_count": 31,
   "metadata": {},
   "outputs": [
    {
     "name": "stdout",
     "output_type": "stream",
     "text": [
      "-133.5\n",
      "278.5\n"
     ]
    }
   ],
   "source": [
    "IQR = td_0[\"pollutant_max\"].quantile (0.75) - td_0[\"pollutant_max\"].quantile(0.25) \n",
    "lower_pollutant_max_limit= td_0[\"pollutant_max\"].quantile (0.25)- (IQR *1.5)\n",
    "upper_pollutant_max_limit = td_0[\"pollutant_max\"].quantile (0.75) +(IQR *1.5)\n",
    "print (lower_pollutant_max_limit)\n",
    "print (upper_pollutant_max_limit)"
   ]
  },
  {
   "cell_type": "code",
   "execution_count": 32,
   "metadata": {},
   "outputs": [
    {
     "data": {
      "text/html": [
       "<div>\n",
       "<style scoped>\n",
       "    .dataframe tbody tr th:only-of-type {\n",
       "        vertical-align: middle;\n",
       "    }\n",
       "\n",
       "    .dataframe tbody tr th {\n",
       "        vertical-align: top;\n",
       "    }\n",
       "\n",
       "    .dataframe thead th {\n",
       "        text-align: right;\n",
       "    }\n",
       "</style>\n",
       "<table border=\"1\" class=\"dataframe\">\n",
       "  <thead>\n",
       "    <tr style=\"text-align: right;\">\n",
       "      <th></th>\n",
       "      <th>id</th>\n",
       "      <th>country</th>\n",
       "      <th>state</th>\n",
       "      <th>city</th>\n",
       "      <th>station</th>\n",
       "      <th>pollutant_id</th>\n",
       "      <th>last_update</th>\n",
       "      <th>pollutant_min</th>\n",
       "      <th>pollutant_max</th>\n",
       "      <th>pollutant_avg</th>\n",
       "    </tr>\n",
       "  </thead>\n",
       "  <tbody>\n",
       "    <tr>\n",
       "      <th>0</th>\n",
       "      <td>1</td>\n",
       "      <td>India</td>\n",
       "      <td>Andhra_Pradesh</td>\n",
       "      <td>Amaravati</td>\n",
       "      <td>Secretariat, Amaravati - APPCB</td>\n",
       "      <td>PM2.5</td>\n",
       "      <td>21-10-2021 01:00:00</td>\n",
       "      <td>69.0</td>\n",
       "      <td>109.0</td>\n",
       "      <td>86.0</td>\n",
       "    </tr>\n",
       "    <tr>\n",
       "      <th>1</th>\n",
       "      <td>2</td>\n",
       "      <td>India</td>\n",
       "      <td>Andhra_Pradesh</td>\n",
       "      <td>Amaravati</td>\n",
       "      <td>Secretariat, Amaravati - APPCB</td>\n",
       "      <td>PM10</td>\n",
       "      <td>21-10-2021 01:00:00</td>\n",
       "      <td>82.0</td>\n",
       "      <td>138.0</td>\n",
       "      <td>105.0</td>\n",
       "    </tr>\n",
       "    <tr>\n",
       "      <th>2</th>\n",
       "      <td>3</td>\n",
       "      <td>India</td>\n",
       "      <td>Andhra_Pradesh</td>\n",
       "      <td>Amaravati</td>\n",
       "      <td>Secretariat, Amaravati - APPCB</td>\n",
       "      <td>NO2</td>\n",
       "      <td>21-10-2021 01:00:00</td>\n",
       "      <td>10.0</td>\n",
       "      <td>42.0</td>\n",
       "      <td>19.0</td>\n",
       "    </tr>\n",
       "    <tr>\n",
       "      <th>3</th>\n",
       "      <td>4</td>\n",
       "      <td>India</td>\n",
       "      <td>Andhra_Pradesh</td>\n",
       "      <td>Amaravati</td>\n",
       "      <td>Secretariat, Amaravati - APPCB</td>\n",
       "      <td>NH3</td>\n",
       "      <td>21-10-2021 01:00:00</td>\n",
       "      <td>4.0</td>\n",
       "      <td>5.0</td>\n",
       "      <td>4.0</td>\n",
       "    </tr>\n",
       "    <tr>\n",
       "      <th>4</th>\n",
       "      <td>5</td>\n",
       "      <td>India</td>\n",
       "      <td>Andhra_Pradesh</td>\n",
       "      <td>Amaravati</td>\n",
       "      <td>Secretariat, Amaravati - APPCB</td>\n",
       "      <td>SO2</td>\n",
       "      <td>21-10-2021 01:00:00</td>\n",
       "      <td>16.0</td>\n",
       "      <td>42.0</td>\n",
       "      <td>27.0</td>\n",
       "    </tr>\n",
       "    <tr>\n",
       "      <th>...</th>\n",
       "      <td>...</td>\n",
       "      <td>...</td>\n",
       "      <td>...</td>\n",
       "      <td>...</td>\n",
       "      <td>...</td>\n",
       "      <td>...</td>\n",
       "      <td>...</td>\n",
       "      <td>...</td>\n",
       "      <td>...</td>\n",
       "      <td>...</td>\n",
       "    </tr>\n",
       "    <tr>\n",
       "      <th>1831</th>\n",
       "      <td>1832</td>\n",
       "      <td>India</td>\n",
       "      <td>West_Bengal</td>\n",
       "      <td>Kolkata</td>\n",
       "      <td>Victoria, Kolkata - WBPCB</td>\n",
       "      <td>NO2</td>\n",
       "      <td>21-10-2021 01:00:00</td>\n",
       "      <td>10.0</td>\n",
       "      <td>22.0</td>\n",
       "      <td>15.0</td>\n",
       "    </tr>\n",
       "    <tr>\n",
       "      <th>1832</th>\n",
       "      <td>1833</td>\n",
       "      <td>India</td>\n",
       "      <td>West_Bengal</td>\n",
       "      <td>Kolkata</td>\n",
       "      <td>Victoria, Kolkata - WBPCB</td>\n",
       "      <td>NH3</td>\n",
       "      <td>21-10-2021 01:00:00</td>\n",
       "      <td>1.0</td>\n",
       "      <td>3.0</td>\n",
       "      <td>2.0</td>\n",
       "    </tr>\n",
       "    <tr>\n",
       "      <th>1833</th>\n",
       "      <td>1834</td>\n",
       "      <td>India</td>\n",
       "      <td>West_Bengal</td>\n",
       "      <td>Kolkata</td>\n",
       "      <td>Victoria, Kolkata - WBPCB</td>\n",
       "      <td>SO2</td>\n",
       "      <td>21-10-2021 01:00:00</td>\n",
       "      <td>6.0</td>\n",
       "      <td>28.0</td>\n",
       "      <td>10.0</td>\n",
       "    </tr>\n",
       "    <tr>\n",
       "      <th>1834</th>\n",
       "      <td>1835</td>\n",
       "      <td>India</td>\n",
       "      <td>West_Bengal</td>\n",
       "      <td>Kolkata</td>\n",
       "      <td>Victoria, Kolkata - WBPCB</td>\n",
       "      <td>CO</td>\n",
       "      <td>21-10-2021 01:00:00</td>\n",
       "      <td>34.0</td>\n",
       "      <td>92.0</td>\n",
       "      <td>41.0</td>\n",
       "    </tr>\n",
       "    <tr>\n",
       "      <th>1835</th>\n",
       "      <td>1836</td>\n",
       "      <td>India</td>\n",
       "      <td>West_Bengal</td>\n",
       "      <td>Kolkata</td>\n",
       "      <td>Victoria, Kolkata - WBPCB</td>\n",
       "      <td>OZONE</td>\n",
       "      <td>21-10-2021 01:00:00</td>\n",
       "      <td>10.0</td>\n",
       "      <td>116.0</td>\n",
       "      <td>43.0</td>\n",
       "    </tr>\n",
       "  </tbody>\n",
       "</table>\n",
       "<p>1836 rows × 10 columns</p>\n",
       "</div>"
      ],
      "text/plain": [
       "        id country           state       city                         station  \\\n",
       "0        1   India  Andhra_Pradesh  Amaravati  Secretariat, Amaravati - APPCB   \n",
       "1        2   India  Andhra_Pradesh  Amaravati  Secretariat, Amaravati - APPCB   \n",
       "2        3   India  Andhra_Pradesh  Amaravati  Secretariat, Amaravati - APPCB   \n",
       "3        4   India  Andhra_Pradesh  Amaravati  Secretariat, Amaravati - APPCB   \n",
       "4        5   India  Andhra_Pradesh  Amaravati  Secretariat, Amaravati - APPCB   \n",
       "...    ...     ...             ...        ...                             ...   \n",
       "1831  1832   India     West_Bengal    Kolkata       Victoria, Kolkata - WBPCB   \n",
       "1832  1833   India     West_Bengal    Kolkata       Victoria, Kolkata - WBPCB   \n",
       "1833  1834   India     West_Bengal    Kolkata       Victoria, Kolkata - WBPCB   \n",
       "1834  1835   India     West_Bengal    Kolkata       Victoria, Kolkata - WBPCB   \n",
       "1835  1836   India     West_Bengal    Kolkata       Victoria, Kolkata - WBPCB   \n",
       "\n",
       "     pollutant_id          last_update  pollutant_min  pollutant_max  \\\n",
       "0           PM2.5  21-10-2021 01:00:00           69.0          109.0   \n",
       "1            PM10  21-10-2021 01:00:00           82.0          138.0   \n",
       "2             NO2  21-10-2021 01:00:00           10.0           42.0   \n",
       "3             NH3  21-10-2021 01:00:00            4.0            5.0   \n",
       "4             SO2  21-10-2021 01:00:00           16.0           42.0   \n",
       "...           ...                  ...            ...            ...   \n",
       "1831          NO2  21-10-2021 01:00:00           10.0           22.0   \n",
       "1832          NH3  21-10-2021 01:00:00            1.0            3.0   \n",
       "1833          SO2  21-10-2021 01:00:00            6.0           28.0   \n",
       "1834           CO  21-10-2021 01:00:00           34.0           92.0   \n",
       "1835        OZONE  21-10-2021 01:00:00           10.0          116.0   \n",
       "\n",
       "      pollutant_avg  \n",
       "0              86.0  \n",
       "1             105.0  \n",
       "2              19.0  \n",
       "3               4.0  \n",
       "4              27.0  \n",
       "...             ...  \n",
       "1831           15.0  \n",
       "1832            2.0  \n",
       "1833           10.0  \n",
       "1834           41.0  \n",
       "1835           43.0  \n",
       "\n",
       "[1836 rows x 10 columns]"
      ]
     },
     "execution_count": 32,
     "metadata": {},
     "output_type": "execute_result"
    }
   ],
   "source": [
    "td_0[\"pollutant_avg\"]= np.where (td_0[\"pollutant_avg\"]> upper_pollutant_avg_limit, upper_pollutant_avg_limit, np.where(td_0[\"pollutant_avg\"] < lower_pollutant_avg_limit, lower_pollutant_avg_limit, td_0[\"pollutant_avg\"]))\n",
    "td_0"
   ]
  },
  {
   "cell_type": "code",
   "execution_count": 33,
   "metadata": {},
   "outputs": [
    {
     "data": {
      "text/html": [
       "<div>\n",
       "<style scoped>\n",
       "    .dataframe tbody tr th:only-of-type {\n",
       "        vertical-align: middle;\n",
       "    }\n",
       "\n",
       "    .dataframe tbody tr th {\n",
       "        vertical-align: top;\n",
       "    }\n",
       "\n",
       "    .dataframe thead th {\n",
       "        text-align: right;\n",
       "    }\n",
       "</style>\n",
       "<table border=\"1\" class=\"dataframe\">\n",
       "  <thead>\n",
       "    <tr style=\"text-align: right;\">\n",
       "      <th></th>\n",
       "      <th>id</th>\n",
       "      <th>country</th>\n",
       "      <th>state</th>\n",
       "      <th>city</th>\n",
       "      <th>station</th>\n",
       "      <th>pollutant_id</th>\n",
       "      <th>last_update</th>\n",
       "      <th>pollutant_min</th>\n",
       "      <th>pollutant_max</th>\n",
       "      <th>pollutant_avg</th>\n",
       "    </tr>\n",
       "  </thead>\n",
       "  <tbody>\n",
       "    <tr>\n",
       "      <th>0</th>\n",
       "      <td>1</td>\n",
       "      <td>India</td>\n",
       "      <td>Andhra_Pradesh</td>\n",
       "      <td>Amaravati</td>\n",
       "      <td>Secretariat, Amaravati - APPCB</td>\n",
       "      <td>PM2.5</td>\n",
       "      <td>21-10-2021 01:00:00</td>\n",
       "      <td>69.0</td>\n",
       "      <td>109.0</td>\n",
       "      <td>86.0</td>\n",
       "    </tr>\n",
       "    <tr>\n",
       "      <th>1</th>\n",
       "      <td>2</td>\n",
       "      <td>India</td>\n",
       "      <td>Andhra_Pradesh</td>\n",
       "      <td>Amaravati</td>\n",
       "      <td>Secretariat, Amaravati - APPCB</td>\n",
       "      <td>PM10</td>\n",
       "      <td>21-10-2021 01:00:00</td>\n",
       "      <td>82.0</td>\n",
       "      <td>138.0</td>\n",
       "      <td>105.0</td>\n",
       "    </tr>\n",
       "    <tr>\n",
       "      <th>2</th>\n",
       "      <td>3</td>\n",
       "      <td>India</td>\n",
       "      <td>Andhra_Pradesh</td>\n",
       "      <td>Amaravati</td>\n",
       "      <td>Secretariat, Amaravati - APPCB</td>\n",
       "      <td>NO2</td>\n",
       "      <td>21-10-2021 01:00:00</td>\n",
       "      <td>10.0</td>\n",
       "      <td>42.0</td>\n",
       "      <td>19.0</td>\n",
       "    </tr>\n",
       "    <tr>\n",
       "      <th>3</th>\n",
       "      <td>4</td>\n",
       "      <td>India</td>\n",
       "      <td>Andhra_Pradesh</td>\n",
       "      <td>Amaravati</td>\n",
       "      <td>Secretariat, Amaravati - APPCB</td>\n",
       "      <td>NH3</td>\n",
       "      <td>21-10-2021 01:00:00</td>\n",
       "      <td>4.0</td>\n",
       "      <td>5.0</td>\n",
       "      <td>4.0</td>\n",
       "    </tr>\n",
       "    <tr>\n",
       "      <th>4</th>\n",
       "      <td>5</td>\n",
       "      <td>India</td>\n",
       "      <td>Andhra_Pradesh</td>\n",
       "      <td>Amaravati</td>\n",
       "      <td>Secretariat, Amaravati - APPCB</td>\n",
       "      <td>SO2</td>\n",
       "      <td>21-10-2021 01:00:00</td>\n",
       "      <td>16.0</td>\n",
       "      <td>42.0</td>\n",
       "      <td>27.0</td>\n",
       "    </tr>\n",
       "    <tr>\n",
       "      <th>...</th>\n",
       "      <td>...</td>\n",
       "      <td>...</td>\n",
       "      <td>...</td>\n",
       "      <td>...</td>\n",
       "      <td>...</td>\n",
       "      <td>...</td>\n",
       "      <td>...</td>\n",
       "      <td>...</td>\n",
       "      <td>...</td>\n",
       "      <td>...</td>\n",
       "    </tr>\n",
       "    <tr>\n",
       "      <th>1831</th>\n",
       "      <td>1832</td>\n",
       "      <td>India</td>\n",
       "      <td>West_Bengal</td>\n",
       "      <td>Kolkata</td>\n",
       "      <td>Victoria, Kolkata - WBPCB</td>\n",
       "      <td>NO2</td>\n",
       "      <td>21-10-2021 01:00:00</td>\n",
       "      <td>10.0</td>\n",
       "      <td>22.0</td>\n",
       "      <td>15.0</td>\n",
       "    </tr>\n",
       "    <tr>\n",
       "      <th>1832</th>\n",
       "      <td>1833</td>\n",
       "      <td>India</td>\n",
       "      <td>West_Bengal</td>\n",
       "      <td>Kolkata</td>\n",
       "      <td>Victoria, Kolkata - WBPCB</td>\n",
       "      <td>NH3</td>\n",
       "      <td>21-10-2021 01:00:00</td>\n",
       "      <td>1.0</td>\n",
       "      <td>3.0</td>\n",
       "      <td>2.0</td>\n",
       "    </tr>\n",
       "    <tr>\n",
       "      <th>1833</th>\n",
       "      <td>1834</td>\n",
       "      <td>India</td>\n",
       "      <td>West_Bengal</td>\n",
       "      <td>Kolkata</td>\n",
       "      <td>Victoria, Kolkata - WBPCB</td>\n",
       "      <td>SO2</td>\n",
       "      <td>21-10-2021 01:00:00</td>\n",
       "      <td>6.0</td>\n",
       "      <td>28.0</td>\n",
       "      <td>10.0</td>\n",
       "    </tr>\n",
       "    <tr>\n",
       "      <th>1834</th>\n",
       "      <td>1835</td>\n",
       "      <td>India</td>\n",
       "      <td>West_Bengal</td>\n",
       "      <td>Kolkata</td>\n",
       "      <td>Victoria, Kolkata - WBPCB</td>\n",
       "      <td>CO</td>\n",
       "      <td>21-10-2021 01:00:00</td>\n",
       "      <td>34.0</td>\n",
       "      <td>92.0</td>\n",
       "      <td>41.0</td>\n",
       "    </tr>\n",
       "    <tr>\n",
       "      <th>1835</th>\n",
       "      <td>1836</td>\n",
       "      <td>India</td>\n",
       "      <td>West_Bengal</td>\n",
       "      <td>Kolkata</td>\n",
       "      <td>Victoria, Kolkata - WBPCB</td>\n",
       "      <td>OZONE</td>\n",
       "      <td>21-10-2021 01:00:00</td>\n",
       "      <td>10.0</td>\n",
       "      <td>116.0</td>\n",
       "      <td>43.0</td>\n",
       "    </tr>\n",
       "  </tbody>\n",
       "</table>\n",
       "<p>1836 rows × 10 columns</p>\n",
       "</div>"
      ],
      "text/plain": [
       "        id country           state       city                         station  \\\n",
       "0        1   India  Andhra_Pradesh  Amaravati  Secretariat, Amaravati - APPCB   \n",
       "1        2   India  Andhra_Pradesh  Amaravati  Secretariat, Amaravati - APPCB   \n",
       "2        3   India  Andhra_Pradesh  Amaravati  Secretariat, Amaravati - APPCB   \n",
       "3        4   India  Andhra_Pradesh  Amaravati  Secretariat, Amaravati - APPCB   \n",
       "4        5   India  Andhra_Pradesh  Amaravati  Secretariat, Amaravati - APPCB   \n",
       "...    ...     ...             ...        ...                             ...   \n",
       "1831  1832   India     West_Bengal    Kolkata       Victoria, Kolkata - WBPCB   \n",
       "1832  1833   India     West_Bengal    Kolkata       Victoria, Kolkata - WBPCB   \n",
       "1833  1834   India     West_Bengal    Kolkata       Victoria, Kolkata - WBPCB   \n",
       "1834  1835   India     West_Bengal    Kolkata       Victoria, Kolkata - WBPCB   \n",
       "1835  1836   India     West_Bengal    Kolkata       Victoria, Kolkata - WBPCB   \n",
       "\n",
       "     pollutant_id          last_update  pollutant_min  pollutant_max  \\\n",
       "0           PM2.5  21-10-2021 01:00:00           69.0          109.0   \n",
       "1            PM10  21-10-2021 01:00:00           82.0          138.0   \n",
       "2             NO2  21-10-2021 01:00:00           10.0           42.0   \n",
       "3             NH3  21-10-2021 01:00:00            4.0            5.0   \n",
       "4             SO2  21-10-2021 01:00:00           16.0           42.0   \n",
       "...           ...                  ...            ...            ...   \n",
       "1831          NO2  21-10-2021 01:00:00           10.0           22.0   \n",
       "1832          NH3  21-10-2021 01:00:00            1.0            3.0   \n",
       "1833          SO2  21-10-2021 01:00:00            6.0           28.0   \n",
       "1834           CO  21-10-2021 01:00:00           34.0           92.0   \n",
       "1835        OZONE  21-10-2021 01:00:00           10.0          116.0   \n",
       "\n",
       "      pollutant_avg  \n",
       "0              86.0  \n",
       "1             105.0  \n",
       "2              19.0  \n",
       "3               4.0  \n",
       "4              27.0  \n",
       "...             ...  \n",
       "1831           15.0  \n",
       "1832            2.0  \n",
       "1833           10.0  \n",
       "1834           41.0  \n",
       "1835           43.0  \n",
       "\n",
       "[1836 rows x 10 columns]"
      ]
     },
     "execution_count": 33,
     "metadata": {},
     "output_type": "execute_result"
    }
   ],
   "source": [
    "td_0[\"pollutant_min\"]= np.where (td_0[\"pollutant_min\"]> upper_pollutant_min_limit, upper_pollutant_min_limit, np.where(td_0[\"pollutant_min\"] < lower_pollutant_min_limit, lower_pollutant_min_limit, td_0[\"pollutant_min\"]))\n",
    "td_0"
   ]
  },
  {
   "cell_type": "code",
   "execution_count": 34,
   "metadata": {},
   "outputs": [
    {
     "data": {
      "text/html": [
       "<div>\n",
       "<style scoped>\n",
       "    .dataframe tbody tr th:only-of-type {\n",
       "        vertical-align: middle;\n",
       "    }\n",
       "\n",
       "    .dataframe tbody tr th {\n",
       "        vertical-align: top;\n",
       "    }\n",
       "\n",
       "    .dataframe thead th {\n",
       "        text-align: right;\n",
       "    }\n",
       "</style>\n",
       "<table border=\"1\" class=\"dataframe\">\n",
       "  <thead>\n",
       "    <tr style=\"text-align: right;\">\n",
       "      <th></th>\n",
       "      <th>id</th>\n",
       "      <th>country</th>\n",
       "      <th>state</th>\n",
       "      <th>city</th>\n",
       "      <th>station</th>\n",
       "      <th>pollutant_id</th>\n",
       "      <th>last_update</th>\n",
       "      <th>pollutant_min</th>\n",
       "      <th>pollutant_max</th>\n",
       "      <th>pollutant_avg</th>\n",
       "    </tr>\n",
       "  </thead>\n",
       "  <tbody>\n",
       "    <tr>\n",
       "      <th>0</th>\n",
       "      <td>1</td>\n",
       "      <td>India</td>\n",
       "      <td>Andhra_Pradesh</td>\n",
       "      <td>Amaravati</td>\n",
       "      <td>Secretariat, Amaravati - APPCB</td>\n",
       "      <td>PM2.5</td>\n",
       "      <td>21-10-2021 01:00:00</td>\n",
       "      <td>69.0</td>\n",
       "      <td>109.0</td>\n",
       "      <td>86.0</td>\n",
       "    </tr>\n",
       "    <tr>\n",
       "      <th>1</th>\n",
       "      <td>2</td>\n",
       "      <td>India</td>\n",
       "      <td>Andhra_Pradesh</td>\n",
       "      <td>Amaravati</td>\n",
       "      <td>Secretariat, Amaravati - APPCB</td>\n",
       "      <td>PM10</td>\n",
       "      <td>21-10-2021 01:00:00</td>\n",
       "      <td>82.0</td>\n",
       "      <td>138.0</td>\n",
       "      <td>105.0</td>\n",
       "    </tr>\n",
       "    <tr>\n",
       "      <th>2</th>\n",
       "      <td>3</td>\n",
       "      <td>India</td>\n",
       "      <td>Andhra_Pradesh</td>\n",
       "      <td>Amaravati</td>\n",
       "      <td>Secretariat, Amaravati - APPCB</td>\n",
       "      <td>NO2</td>\n",
       "      <td>21-10-2021 01:00:00</td>\n",
       "      <td>10.0</td>\n",
       "      <td>42.0</td>\n",
       "      <td>19.0</td>\n",
       "    </tr>\n",
       "    <tr>\n",
       "      <th>3</th>\n",
       "      <td>4</td>\n",
       "      <td>India</td>\n",
       "      <td>Andhra_Pradesh</td>\n",
       "      <td>Amaravati</td>\n",
       "      <td>Secretariat, Amaravati - APPCB</td>\n",
       "      <td>NH3</td>\n",
       "      <td>21-10-2021 01:00:00</td>\n",
       "      <td>4.0</td>\n",
       "      <td>5.0</td>\n",
       "      <td>4.0</td>\n",
       "    </tr>\n",
       "    <tr>\n",
       "      <th>4</th>\n",
       "      <td>5</td>\n",
       "      <td>India</td>\n",
       "      <td>Andhra_Pradesh</td>\n",
       "      <td>Amaravati</td>\n",
       "      <td>Secretariat, Amaravati - APPCB</td>\n",
       "      <td>SO2</td>\n",
       "      <td>21-10-2021 01:00:00</td>\n",
       "      <td>16.0</td>\n",
       "      <td>42.0</td>\n",
       "      <td>27.0</td>\n",
       "    </tr>\n",
       "    <tr>\n",
       "      <th>...</th>\n",
       "      <td>...</td>\n",
       "      <td>...</td>\n",
       "      <td>...</td>\n",
       "      <td>...</td>\n",
       "      <td>...</td>\n",
       "      <td>...</td>\n",
       "      <td>...</td>\n",
       "      <td>...</td>\n",
       "      <td>...</td>\n",
       "      <td>...</td>\n",
       "    </tr>\n",
       "    <tr>\n",
       "      <th>1831</th>\n",
       "      <td>1832</td>\n",
       "      <td>India</td>\n",
       "      <td>West_Bengal</td>\n",
       "      <td>Kolkata</td>\n",
       "      <td>Victoria, Kolkata - WBPCB</td>\n",
       "      <td>NO2</td>\n",
       "      <td>21-10-2021 01:00:00</td>\n",
       "      <td>10.0</td>\n",
       "      <td>22.0</td>\n",
       "      <td>15.0</td>\n",
       "    </tr>\n",
       "    <tr>\n",
       "      <th>1832</th>\n",
       "      <td>1833</td>\n",
       "      <td>India</td>\n",
       "      <td>West_Bengal</td>\n",
       "      <td>Kolkata</td>\n",
       "      <td>Victoria, Kolkata - WBPCB</td>\n",
       "      <td>NH3</td>\n",
       "      <td>21-10-2021 01:00:00</td>\n",
       "      <td>1.0</td>\n",
       "      <td>3.0</td>\n",
       "      <td>2.0</td>\n",
       "    </tr>\n",
       "    <tr>\n",
       "      <th>1833</th>\n",
       "      <td>1834</td>\n",
       "      <td>India</td>\n",
       "      <td>West_Bengal</td>\n",
       "      <td>Kolkata</td>\n",
       "      <td>Victoria, Kolkata - WBPCB</td>\n",
       "      <td>SO2</td>\n",
       "      <td>21-10-2021 01:00:00</td>\n",
       "      <td>6.0</td>\n",
       "      <td>28.0</td>\n",
       "      <td>10.0</td>\n",
       "    </tr>\n",
       "    <tr>\n",
       "      <th>1834</th>\n",
       "      <td>1835</td>\n",
       "      <td>India</td>\n",
       "      <td>West_Bengal</td>\n",
       "      <td>Kolkata</td>\n",
       "      <td>Victoria, Kolkata - WBPCB</td>\n",
       "      <td>CO</td>\n",
       "      <td>21-10-2021 01:00:00</td>\n",
       "      <td>34.0</td>\n",
       "      <td>92.0</td>\n",
       "      <td>41.0</td>\n",
       "    </tr>\n",
       "    <tr>\n",
       "      <th>1835</th>\n",
       "      <td>1836</td>\n",
       "      <td>India</td>\n",
       "      <td>West_Bengal</td>\n",
       "      <td>Kolkata</td>\n",
       "      <td>Victoria, Kolkata - WBPCB</td>\n",
       "      <td>OZONE</td>\n",
       "      <td>21-10-2021 01:00:00</td>\n",
       "      <td>10.0</td>\n",
       "      <td>116.0</td>\n",
       "      <td>43.0</td>\n",
       "    </tr>\n",
       "  </tbody>\n",
       "</table>\n",
       "<p>1836 rows × 10 columns</p>\n",
       "</div>"
      ],
      "text/plain": [
       "        id country           state       city                         station  \\\n",
       "0        1   India  Andhra_Pradesh  Amaravati  Secretariat, Amaravati - APPCB   \n",
       "1        2   India  Andhra_Pradesh  Amaravati  Secretariat, Amaravati - APPCB   \n",
       "2        3   India  Andhra_Pradesh  Amaravati  Secretariat, Amaravati - APPCB   \n",
       "3        4   India  Andhra_Pradesh  Amaravati  Secretariat, Amaravati - APPCB   \n",
       "4        5   India  Andhra_Pradesh  Amaravati  Secretariat, Amaravati - APPCB   \n",
       "...    ...     ...             ...        ...                             ...   \n",
       "1831  1832   India     West_Bengal    Kolkata       Victoria, Kolkata - WBPCB   \n",
       "1832  1833   India     West_Bengal    Kolkata       Victoria, Kolkata - WBPCB   \n",
       "1833  1834   India     West_Bengal    Kolkata       Victoria, Kolkata - WBPCB   \n",
       "1834  1835   India     West_Bengal    Kolkata       Victoria, Kolkata - WBPCB   \n",
       "1835  1836   India     West_Bengal    Kolkata       Victoria, Kolkata - WBPCB   \n",
       "\n",
       "     pollutant_id          last_update  pollutant_min  pollutant_max  \\\n",
       "0           PM2.5  21-10-2021 01:00:00           69.0          109.0   \n",
       "1            PM10  21-10-2021 01:00:00           82.0          138.0   \n",
       "2             NO2  21-10-2021 01:00:00           10.0           42.0   \n",
       "3             NH3  21-10-2021 01:00:00            4.0            5.0   \n",
       "4             SO2  21-10-2021 01:00:00           16.0           42.0   \n",
       "...           ...                  ...            ...            ...   \n",
       "1831          NO2  21-10-2021 01:00:00           10.0           22.0   \n",
       "1832          NH3  21-10-2021 01:00:00            1.0            3.0   \n",
       "1833          SO2  21-10-2021 01:00:00            6.0           28.0   \n",
       "1834           CO  21-10-2021 01:00:00           34.0           92.0   \n",
       "1835        OZONE  21-10-2021 01:00:00           10.0          116.0   \n",
       "\n",
       "      pollutant_avg  \n",
       "0              86.0  \n",
       "1             105.0  \n",
       "2              19.0  \n",
       "3               4.0  \n",
       "4              27.0  \n",
       "...             ...  \n",
       "1831           15.0  \n",
       "1832            2.0  \n",
       "1833           10.0  \n",
       "1834           41.0  \n",
       "1835           43.0  \n",
       "\n",
       "[1836 rows x 10 columns]"
      ]
     },
     "execution_count": 34,
     "metadata": {},
     "output_type": "execute_result"
    }
   ],
   "source": [
    "td_0[\"pollutant_max\"]= np.where (td_0[\"pollutant_max\"]> upper_pollutant_max_limit, upper_pollutant_max_limit, np.where(td_0[\"pollutant_max\"] < lower_pollutant_max_limit, lower_pollutant_max_limit, td_0[\"pollutant_max\"]))\n",
    "td_0"
   ]
  },
  {
   "cell_type": "code",
   "execution_count": 35,
   "metadata": {},
   "outputs": [
    {
     "data": {
      "text/html": [
       "<div>\n",
       "<style scoped>\n",
       "    .dataframe tbody tr th:only-of-type {\n",
       "        vertical-align: middle;\n",
       "    }\n",
       "\n",
       "    .dataframe tbody tr th {\n",
       "        vertical-align: top;\n",
       "    }\n",
       "\n",
       "    .dataframe thead th {\n",
       "        text-align: right;\n",
       "    }\n",
       "</style>\n",
       "<table border=\"1\" class=\"dataframe\">\n",
       "  <thead>\n",
       "    <tr style=\"text-align: right;\">\n",
       "      <th></th>\n",
       "      <th>id</th>\n",
       "      <th>country</th>\n",
       "      <th>state</th>\n",
       "      <th>city</th>\n",
       "      <th>station</th>\n",
       "      <th>pollutant_id</th>\n",
       "      <th>last_update</th>\n",
       "      <th>pollutant_min</th>\n",
       "      <th>pollutant_max</th>\n",
       "      <th>pollutant_avg</th>\n",
       "    </tr>\n",
       "  </thead>\n",
       "  <tbody>\n",
       "    <tr>\n",
       "      <th>30</th>\n",
       "      <td>31</td>\n",
       "      <td>India</td>\n",
       "      <td>Assam</td>\n",
       "      <td>Guwahati</td>\n",
       "      <td>Pan Bazaar, Guwahati - APCB</td>\n",
       "      <td>NH3</td>\n",
       "      <td>21-10-2021 01:00:00</td>\n",
       "      <td>1.0</td>\n",
       "      <td>4.0</td>\n",
       "      <td>2.0</td>\n",
       "    </tr>\n",
       "    <tr>\n",
       "      <th>31</th>\n",
       "      <td>32</td>\n",
       "      <td>India</td>\n",
       "      <td>Assam</td>\n",
       "      <td>Guwahati</td>\n",
       "      <td>Pan Bazaar, Guwahati - APCB</td>\n",
       "      <td>SO2</td>\n",
       "      <td>21-10-2021 01:00:00</td>\n",
       "      <td>82.0</td>\n",
       "      <td>101.0</td>\n",
       "      <td>88.0</td>\n",
       "    </tr>\n",
       "    <tr>\n",
       "      <th>32</th>\n",
       "      <td>33</td>\n",
       "      <td>India</td>\n",
       "      <td>Assam</td>\n",
       "      <td>Guwahati</td>\n",
       "      <td>Pan Bazaar, Guwahati - APCB</td>\n",
       "      <td>CO</td>\n",
       "      <td>21-10-2021 01:00:00</td>\n",
       "      <td>1.0</td>\n",
       "      <td>28.0</td>\n",
       "      <td>7.0</td>\n",
       "    </tr>\n",
       "    <tr>\n",
       "      <th>33</th>\n",
       "      <td>34</td>\n",
       "      <td>India</td>\n",
       "      <td>Assam</td>\n",
       "      <td>Guwahati</td>\n",
       "      <td>Pan Bazaar, Guwahati - APCB</td>\n",
       "      <td>OZONE</td>\n",
       "      <td>21-10-2021 01:00:00</td>\n",
       "      <td>13.0</td>\n",
       "      <td>24.0</td>\n",
       "      <td>20.0</td>\n",
       "    </tr>\n",
       "    <tr>\n",
       "      <th>34</th>\n",
       "      <td>35</td>\n",
       "      <td>India</td>\n",
       "      <td>Assam</td>\n",
       "      <td>Guwahati</td>\n",
       "      <td>Railway Colony, Guwahati - APCB</td>\n",
       "      <td>PM2.5</td>\n",
       "      <td>21-10-2021 01:00:00</td>\n",
       "      <td>2.0</td>\n",
       "      <td>38.0</td>\n",
       "      <td>11.0</td>\n",
       "    </tr>\n",
       "    <tr>\n",
       "      <th>35</th>\n",
       "      <td>36</td>\n",
       "      <td>India</td>\n",
       "      <td>Assam</td>\n",
       "      <td>Guwahati</td>\n",
       "      <td>Railway Colony, Guwahati - APCB</td>\n",
       "      <td>PM10</td>\n",
       "      <td>21-10-2021 01:00:00</td>\n",
       "      <td>6.0</td>\n",
       "      <td>32.0</td>\n",
       "      <td>14.0</td>\n",
       "    </tr>\n",
       "    <tr>\n",
       "      <th>36</th>\n",
       "      <td>37</td>\n",
       "      <td>India</td>\n",
       "      <td>Assam</td>\n",
       "      <td>Guwahati</td>\n",
       "      <td>Railway Colony, Guwahati - APCB</td>\n",
       "      <td>NO2</td>\n",
       "      <td>21-10-2021 01:00:00</td>\n",
       "      <td>5.0</td>\n",
       "      <td>5.0</td>\n",
       "      <td>5.0</td>\n",
       "    </tr>\n",
       "    <tr>\n",
       "      <th>37</th>\n",
       "      <td>38</td>\n",
       "      <td>India</td>\n",
       "      <td>Assam</td>\n",
       "      <td>Guwahati</td>\n",
       "      <td>Railway Colony, Guwahati - APCB</td>\n",
       "      <td>NH3</td>\n",
       "      <td>21-10-2021 01:00:00</td>\n",
       "      <td>1.0</td>\n",
       "      <td>1.0</td>\n",
       "      <td>1.0</td>\n",
       "    </tr>\n",
       "    <tr>\n",
       "      <th>38</th>\n",
       "      <td>39</td>\n",
       "      <td>India</td>\n",
       "      <td>Assam</td>\n",
       "      <td>Guwahati</td>\n",
       "      <td>Railway Colony, Guwahati - APCB</td>\n",
       "      <td>SO2</td>\n",
       "      <td>21-10-2021 01:00:00</td>\n",
       "      <td>37.0</td>\n",
       "      <td>40.0</td>\n",
       "      <td>38.0</td>\n",
       "    </tr>\n",
       "    <tr>\n",
       "      <th>39</th>\n",
       "      <td>40</td>\n",
       "      <td>India</td>\n",
       "      <td>Assam</td>\n",
       "      <td>Guwahati</td>\n",
       "      <td>Railway Colony, Guwahati - APCB</td>\n",
       "      <td>CO</td>\n",
       "      <td>21-10-2021 01:00:00</td>\n",
       "      <td>10.0</td>\n",
       "      <td>19.0</td>\n",
       "      <td>11.0</td>\n",
       "    </tr>\n",
       "  </tbody>\n",
       "</table>\n",
       "</div>"
      ],
      "text/plain": [
       "    id country  state      city                          station pollutant_id  \\\n",
       "30  31   India  Assam  Guwahati      Pan Bazaar, Guwahati - APCB          NH3   \n",
       "31  32   India  Assam  Guwahati      Pan Bazaar, Guwahati - APCB          SO2   \n",
       "32  33   India  Assam  Guwahati      Pan Bazaar, Guwahati - APCB           CO   \n",
       "33  34   India  Assam  Guwahati      Pan Bazaar, Guwahati - APCB        OZONE   \n",
       "34  35   India  Assam  Guwahati  Railway Colony, Guwahati - APCB        PM2.5   \n",
       "35  36   India  Assam  Guwahati  Railway Colony, Guwahati - APCB         PM10   \n",
       "36  37   India  Assam  Guwahati  Railway Colony, Guwahati - APCB          NO2   \n",
       "37  38   India  Assam  Guwahati  Railway Colony, Guwahati - APCB          NH3   \n",
       "38  39   India  Assam  Guwahati  Railway Colony, Guwahati - APCB          SO2   \n",
       "39  40   India  Assam  Guwahati  Railway Colony, Guwahati - APCB           CO   \n",
       "\n",
       "            last_update  pollutant_min  pollutant_max  pollutant_avg  \n",
       "30  21-10-2021 01:00:00            1.0            4.0            2.0  \n",
       "31  21-10-2021 01:00:00           82.0          101.0           88.0  \n",
       "32  21-10-2021 01:00:00            1.0           28.0            7.0  \n",
       "33  21-10-2021 01:00:00           13.0           24.0           20.0  \n",
       "34  21-10-2021 01:00:00            2.0           38.0           11.0  \n",
       "35  21-10-2021 01:00:00            6.0           32.0           14.0  \n",
       "36  21-10-2021 01:00:00            5.0            5.0            5.0  \n",
       "37  21-10-2021 01:00:00            1.0            1.0            1.0  \n",
       "38  21-10-2021 01:00:00           37.0           40.0           38.0  \n",
       "39  21-10-2021 01:00:00           10.0           19.0           11.0  "
      ]
     },
     "execution_count": 35,
     "metadata": {},
     "output_type": "execute_result"
    }
   ],
   "source": [
    "td_0[30:40]"
   ]
  },
  {
   "cell_type": "code",
   "execution_count": 36,
   "metadata": {},
   "outputs": [
    {
     "data": {
      "text/plain": [
       "<AxesSubplot:ylabel='pollutant_avg'>"
      ]
     },
     "execution_count": 36,
     "metadata": {},
     "output_type": "execute_result"
    },
    {
     "data": {
      "image/png": "[encoded data removed]",
      "text/plain": [
       "<Figure size 576x432 with 1 Axes>"
      ]
     },
     "metadata": {},
     "output_type": "display_data"
    }
   ],
   "source": [
    "sns.boxplot(y='pollutant_avg',data=td_0)"
   ]
  },
  {
   "cell_type": "code",
   "execution_count": 37,
   "metadata": {},
   "outputs": [
    {
     "data": {
      "text/plain": [
       "<AxesSubplot:ylabel='pollutant_min'>"
      ]
     },
     "execution_count": 37,
     "metadata": {},
     "output_type": "execute_result"
    },
    {
     "data": {
      "image/png": "[encoded data removed]",
      "text/plain": [
       "<Figure size 576x432 with 1 Axes>"
      ]
     },
     "metadata": {},
     "output_type": "display_data"
    }
   ],
   "source": [
    "sns.boxplot(y='pollutant_min',data=td_0)"
   ]
  },
  {
   "cell_type": "code",
   "execution_count": 38,
   "metadata": {},
   "outputs": [
    {
     "data": {
      "text/plain": [
       "<AxesSubplot:ylabel='pollutant_max'>"
      ]
     },
     "execution_count": 38,
     "metadata": {},
     "output_type": "execute_result"
    },
    {
     "data": {
      "image/png": "[encoded data removed]",
      "text/plain": [
       "<Figure size 576x432 with 1 Axes>"
      ]
     },
     "metadata": {},
     "output_type": "display_data"
    }
   ],
   "source": [
    "sns.boxplot(y='pollutant_max',data=td_0)"
   ]
  },
  {
   "cell_type": "markdown",
   "metadata": {},
   "source": [
    "### Outlier capping using mean and std"
   ]
  },
  {
   "cell_type": "code",
   "execution_count": 39,
   "metadata": {},
   "outputs": [
    {
     "name": "stdout",
     "output_type": "stream",
     "text": [
      "-97.20129917369792\n",
      "196.37621286759895\n"
     ]
    }
   ],
   "source": [
    "lower_pollutant_avg_limit= td_0[\"pollutant_avg\"].mean()-(3 *td_0[\"pollutant_avg\"].std()) \n",
    "upper_pollutant_avg_limit= td_0[\"pollutant_avg\"].mean() + (3 *td_0[\"pollutant_avg\"].std())\n",
    "\n",
    "print (lower_pollutant_avg_limit)\n",
    "print (upper_pollutant_avg_limit)"
   ]
  },
  {
   "cell_type": "code",
   "execution_count": 40,
   "metadata": {},
   "outputs": [
    {
     "name": "stdout",
     "output_type": "stream",
     "text": [
      "-57.49108019270969\n",
      "109.67519987050025\n"
     ]
    }
   ],
   "source": [
    "lower_pollutant_min_limit= td_0[\"pollutant_min\"].mean()-(3 *td_0[\"pollutant_min\"].std()) \n",
    "upper_pollutant_min_limit= td_0[\"pollutant_min\"].mean() + (3 *td_0[\"pollutant_min\"].std())\n",
    "\n",
    "print (lower_pollutant_min_limit)\n",
    "print (upper_pollutant_min_limit)"
   ]
  },
  {
   "cell_type": "code",
   "execution_count": 41,
   "metadata": {},
   "outputs": [
    {
     "name": "stdout",
     "output_type": "stream",
     "text": [
      "-165.17821493445274\n",
      "343.7973173510235\n"
     ]
    }
   ],
   "source": [
    "lower_pollutant_max_limit= td_0[\"pollutant_max\"].mean()-(3 *td_0[\"pollutant_max\"].std()) \n",
    "upper_pollutant_max_limit= td_0[\"pollutant_max\"].mean() + (3 *td_0[\"pollutant_max\"].std())\n",
    "\n",
    "print (lower_pollutant_max_limit)\n",
    "print (upper_pollutant_max_limit)"
   ]
  },
  {
   "cell_type": "code",
   "execution_count": 42,
   "metadata": {},
   "outputs": [
    {
     "data": {
      "text/plain": [
       "<AxesSubplot:ylabel='pollutant_avg'>"
      ]
     },
     "execution_count": 42,
     "metadata": {},
     "output_type": "execute_result"
    },
    {
     "data": {
      "image/png": "[encoded data removed]",
      "text/plain": [
       "<Figure size 576x432 with 1 Axes>"
      ]
     },
     "metadata": {},
     "output_type": "display_data"
    }
   ],
   "source": [
    "# Now replace the outlier values by the upper and Lower limits.\n",
    "\n",
    "td_0[\"pollutant_avg\"]= np.where(td_0[\"pollutant_avg\"]> upper_pollutant_avg_limit, upper_pollutant_avg_limit, np.where(td_0[\"pollutant_avg\"] < lower_pollutant_avg_limit, lower_pollutant_avg_limit, td_0[\"pollutant_avg\"]))\n",
    "sns.boxplot(y='pollutant_avg',data=td_0)"
   ]
  },
  {
   "cell_type": "code",
   "execution_count": 43,
   "metadata": {},
   "outputs": [
    {
     "data": {
      "text/plain": [
       "<AxesSubplot:ylabel='pollutant_min'>"
      ]
     },
     "execution_count": 43,
     "metadata": {},
     "output_type": "execute_result"
    },
    {
     "data": {
      "image/png": "[encoded data removed]",
      "text/plain": [
       "<Figure size 576x432 with 1 Axes>"
      ]
     },
     "metadata": {},
     "output_type": "display_data"
    }
   ],
   "source": [
    "# Now replace the outlier values by the upper and Lower limits.\n",
    "\n",
    "td_0[\"pollutant_min\"]= np.where(td_0[\"pollutant_min\"]> upper_pollutant_min_limit, upper_pollutant_min_limit, np.where(td_0[\"pollutant_min\"] < lower_pollutant_min_limit, lower_pollutant_min_limit, td_0[\"pollutant_min\"]))\n",
    "sns.boxplot(y='pollutant_min',data=td_0)"
   ]
  },
  {
   "cell_type": "code",
   "execution_count": 44,
   "metadata": {},
   "outputs": [
    {
     "data": {
      "text/plain": [
       "<AxesSubplot:ylabel='pollutant_max'>"
      ]
     },
     "execution_count": 44,
     "metadata": {},
     "output_type": "execute_result"
    },
    {
     "data": {
      "image/png": "[encoded data removed]",
      "text/plain": [
       "<Figure size 576x432 with 1 Axes>"
      ]
     },
     "metadata": {},
     "output_type": "display_data"
    }
   ],
   "source": [
    "# Now replace the outlier values by the upper and Lower limits.\n",
    "\n",
    "td_0[\"pollutant_max\"]= np.where(td_0[\"pollutant_max\"]> upper_pollutant_max_limit, upper_pollutant_max_limit, np.where(td_0[\"pollutant_max\"] < lower_pollutant_max_limit, lower_pollutant_max_limit, td_0[\"pollutant_max\"]))\n",
    "sns.boxplot(y='pollutant_max',data=td_0)"
   ]
  },
  {
   "cell_type": "markdown",
   "metadata": {},
   "source": [
    "## Outlier capping using quantiles"
   ]
  },
  {
   "cell_type": "code",
   "execution_count": 45,
   "metadata": {},
   "outputs": [
    {
     "data": {
      "text/plain": [
       "<AxesSubplot:ylabel='pollutant_avg'>"
      ]
     },
     "execution_count": 45,
     "metadata": {},
     "output_type": "execute_result"
    },
    {
     "data": {
      "image/png": "[encoded data removed]",
      "text/plain": [
       "<Figure size 576x432 with 1 Axes>"
      ]
     },
     "metadata": {},
     "output_type": "display_data"
    }
   ],
   "source": [
    "#plot a box plot for the pollutant_avg column of the airquality dataset. \n",
    "sns.boxplot(y='pollutant_avg', data=td_0)"
   ]
  },
  {
   "cell_type": "code",
   "execution_count": 46,
   "metadata": {},
   "outputs": [
    {
     "data": {
      "text/plain": [
       "<AxesSubplot:ylabel='pollutant_min'>"
      ]
     },
     "execution_count": 46,
     "metadata": {},
     "output_type": "execute_result"
    },
    {
     "data": {
      "image/png": "[encoded data removed]",
      "text/plain": [
       "<Figure size 576x432 with 1 Axes>"
      ]
     },
     "metadata": {},
     "output_type": "display_data"
    }
   ],
   "source": [
    "#plot a box plot for the pollutant_min column of the airquality dataset. \n",
    "sns.boxplot(y='pollutant_min', data=td_0)"
   ]
  },
  {
   "cell_type": "code",
   "execution_count": 47,
   "metadata": {},
   "outputs": [
    {
     "data": {
      "text/plain": [
       "<AxesSubplot:ylabel='pollutant_max'>"
      ]
     },
     "execution_count": 47,
     "metadata": {},
     "output_type": "execute_result"
    },
    {
     "data": {
      "image/png": "[encoded data removed]",
      "text/plain": [
       "<Figure size 576x432 with 1 Axes>"
      ]
     },
     "metadata": {},
     "output_type": "display_data"
    }
   ],
   "source": [
    "#plot a box plot for the pollutant_max column of the airquality dataset. \n",
    "sns.boxplot(y='pollutant_max', data=td_0)"
   ]
  },
  {
   "cell_type": "code",
   "execution_count": 48,
   "metadata": {},
   "outputs": [
    {
     "name": "stdout",
     "output_type": "stream",
     "text": [
      "3.0\n",
      "157.0\n"
     ]
    }
   ],
   "source": [
    "# setting 0.05 as the Lower Limit and 0.95 as the upper Limit for the quantiles to find the outliers\n",
    "\n",
    "lower_pollutant_avg_limit= td_0[\"pollutant_avg\"].quantile (0.05) \n",
    "upper_pollutant_avg_limit = td_0[\"pollutant_avg\"].quantile (0.95)\n",
    "\n",
    "print(lower_pollutant_avg_limit) \n",
    "print(upper_pollutant_avg_limit)\n"
   ]
  },
  {
   "cell_type": "code",
   "execution_count": 49,
   "metadata": {},
   "outputs": [
    {
     "name": "stdout",
     "output_type": "stream",
     "text": [
      "1.0\n",
      "90.0\n"
     ]
    }
   ],
   "source": [
    "# setting 0.05 as the Lower Limit and 0.95 as the upper Limit for the quantiles to find the outliers\n",
    "\n",
    "lower_pollutant_min_limit= td_0[\"pollutant_min\"].quantile (0.05) \n",
    "upper_pollutant_min_limit = td_0[\"pollutant_min\"].quantile (0.95)\n",
    "\n",
    "print(lower_pollutant_min_limit) \n",
    "print(upper_pollutant_min_limit)\n"
   ]
  },
  {
   "cell_type": "code",
   "execution_count": 50,
   "metadata": {},
   "outputs": [
    {
     "name": "stdout",
     "output_type": "stream",
     "text": [
      "4.0\n",
      "278.5\n"
     ]
    }
   ],
   "source": [
    "# setting 0.05 as the Lower Limit and 0.95 as the upper Limit for the quantiles to find the outliers\n",
    "\n",
    "lower_pollutant_max_limit= td_0[\"pollutant_max\"].quantile (0.05) \n",
    "upper_pollutant_max_limit = td_0[\"pollutant_max\"].quantile (0.95)\n",
    "\n",
    "print(lower_pollutant_max_limit) \n",
    "print(upper_pollutant_max_limit)\n"
   ]
  },
  {
   "cell_type": "code",
   "execution_count": 51,
   "metadata": {},
   "outputs": [
    {
     "data": {
      "text/plain": [
       "1     105.0\n",
       "2      19.0\n",
       "3       4.0\n",
       "4      27.0\n",
       "5      32.0\n",
       "6      42.0\n",
       "7      71.0\n",
       "8      86.0\n",
       "9      23.0\n",
       "10      4.0\n",
       "11      5.0\n",
       "12     20.0\n",
       "13     18.0\n",
       "14     92.0\n",
       "15     86.0\n",
       "16     49.0\n",
       "17      3.0\n",
       "18      7.0\n",
       "19     51.0\n",
       "20     25.0\n",
       "21    157.0\n",
       "22    157.0\n",
       "23     91.0\n",
       "24      4.0\n",
       "25     10.0\n",
       "26     46.0\n",
       "27     25.0\n",
       "28     11.0\n",
       "29      5.0\n",
       "30      3.0\n",
       "31     88.0\n",
       "32      7.0\n",
       "33     20.0\n",
       "34     11.0\n",
       "35     14.0\n",
       "36      5.0\n",
       "37      3.0\n",
       "38     38.0\n",
       "39     11.0\n",
       "Name: pollutant_avg, dtype: float64"
      ]
     },
     "execution_count": 51,
     "metadata": {},
     "output_type": "execute_result"
    }
   ],
   "source": [
    "# The output shows that anything beyond 3.0 is an outlier, and similarly, the fare value below 157.0 is also an outiter.\n",
    "\n",
    "# Now replace the outlier values by the upper and Lower Limit.\n",
    "\n",
    "td_0[\"pollutant_avg\"]= np.where(td_0[\"pollutant_avg\"]> upper_pollutant_avg_limit, upper_pollutant_avg_limit, np.where(td_0[\"pollutant_avg\"] < lower_pollutant_avg_limit, lower_pollutant_avg_limit, td_0[\"pollutant_avg\"]))\n",
    "td_0.pollutant_avg[1:40]"
   ]
  },
  {
   "cell_type": "code",
   "execution_count": 52,
   "metadata": {},
   "outputs": [
    {
     "data": {
      "text/plain": [
       "1     82.0\n",
       "2     10.0\n",
       "3      4.0\n",
       "4     16.0\n",
       "5     15.0\n",
       "6      4.0\n",
       "7     47.0\n",
       "8     49.0\n",
       "9     11.0\n",
       "10     2.0\n",
       "11     1.0\n",
       "12     2.0\n",
       "13     2.0\n",
       "14    76.0\n",
       "15    66.0\n",
       "16    14.0\n",
       "17     1.0\n",
       "18     4.0\n",
       "19    39.0\n",
       "20     9.0\n",
       "21    78.0\n",
       "22    77.0\n",
       "23    13.0\n",
       "24     2.0\n",
       "25     2.0\n",
       "26    25.0\n",
       "27     5.0\n",
       "28     1.0\n",
       "29     1.0\n",
       "30     1.0\n",
       "31    82.0\n",
       "32     1.0\n",
       "33    13.0\n",
       "34     2.0\n",
       "35     6.0\n",
       "36     5.0\n",
       "37     1.0\n",
       "38    37.0\n",
       "39    10.0\n",
       "Name: pollutant_min, dtype: float64"
      ]
     },
     "execution_count": 52,
     "metadata": {},
     "output_type": "execute_result"
    }
   ],
   "source": [
    "# The output shows that anything beyond 3.0 is an outlier, and similarly, the fare value below 157.0 is also an outiter.\n",
    "\n",
    "# Now replace the outlier values by the upper and Lower Limit.\n",
    "\n",
    "td_0[\"pollutant_min\"]= np.where(td_0[\"pollutant_min\"]> upper_pollutant_min_limit, upper_pollutant_min_limit, np.where(td_0[\"pollutant_min\"] < lower_pollutant_min_limit, lower_pollutant_min_limit, td_0[\"pollutant_min\"]))\n",
    "td_0.pollutant_min[1:40]"
   ]
  },
  {
   "cell_type": "code",
   "execution_count": 53,
   "metadata": {},
   "outputs": [
    {
     "data": {
      "text/plain": [
       "1     138.0\n",
       "2      42.0\n",
       "3       5.0\n",
       "4      42.0\n",
       "5      45.0\n",
       "6      82.0\n",
       "7     111.0\n",
       "8     120.0\n",
       "9      44.0\n",
       "10      6.0\n",
       "11      9.0\n",
       "12     52.0\n",
       "13     34.0\n",
       "14    131.0\n",
       "15    120.0\n",
       "16     88.0\n",
       "17      4.0\n",
       "18     10.0\n",
       "19     68.0\n",
       "20     49.0\n",
       "21    278.5\n",
       "22    276.0\n",
       "23    187.0\n",
       "24      9.0\n",
       "25     15.0\n",
       "26    154.0\n",
       "27     46.0\n",
       "28     31.0\n",
       "29     13.0\n",
       "30      4.0\n",
       "31    101.0\n",
       "32     28.0\n",
       "33     24.0\n",
       "34     38.0\n",
       "35     32.0\n",
       "36      5.0\n",
       "37      4.0\n",
       "38     40.0\n",
       "39     19.0\n",
       "Name: pollutant_max, dtype: float64"
      ]
     },
     "execution_count": 53,
     "metadata": {},
     "output_type": "execute_result"
    }
   ],
   "source": [
    "# The output shows that anything beyond 3.0 is an outlier, and similarly, the fare value below 157.0 is also an outiter.\n",
    "\n",
    "# Now replace the outlier values by the upper and Lower Limit.\n",
    "\n",
    "td_0[\"pollutant_max\"]= np.where(td_0[\"pollutant_max\"]> upper_pollutant_max_limit, upper_pollutant_max_limit, np.where(td_0[\"pollutant_max\"] < lower_pollutant_max_limit, lower_pollutant_max_limit, td_0[\"pollutant_max\"]))\n",
    "td_0.pollutant_max[1:40]"
   ]
  },
  {
   "cell_type": "code",
   "execution_count": 54,
   "metadata": {},
   "outputs": [
    {
     "data": {
      "text/plain": [
       "<AxesSubplot:ylabel='pollutant_avg'>"
      ]
     },
     "execution_count": 54,
     "metadata": {},
     "output_type": "execute_result"
    },
    {
     "data": {
      "image/png": "[encoded data removed]",
      "text/plain": [
       "<Figure size 576x432 with 1 Axes>"
      ]
     },
     "metadata": {},
     "output_type": "display_data"
    }
   ],
   "source": [
    "# plot a box plot for the pollutant_avg column of the air quality dataset after removing outliers using the quantile method. \n",
    "sns.boxplot(y=\"pollutant_avg\", data=td_0)"
   ]
  },
  {
   "cell_type": "code",
   "execution_count": 55,
   "metadata": {},
   "outputs": [
    {
     "data": {
      "text/plain": [
       "<AxesSubplot:ylabel='pollutant_min'>"
      ]
     },
     "execution_count": 55,
     "metadata": {},
     "output_type": "execute_result"
    },
    {
     "data": {
      "image/png": "[encoded data removed]",
      "text/plain": [
       "<Figure size 576x432 with 1 Axes>"
      ]
     },
     "metadata": {},
     "output_type": "display_data"
    }
   ],
   "source": [
    "# plot a box plot for the pollutant_min column of the air quality dataset after removing outliers using the quantile method. \n",
    "sns.boxplot(y=\"pollutant_min\", data=td_0)"
   ]
  },
  {
   "cell_type": "code",
   "execution_count": 56,
   "metadata": {},
   "outputs": [
    {
     "data": {
      "text/plain": [
       "<AxesSubplot:ylabel='pollutant_max'>"
      ]
     },
     "execution_count": 56,
     "metadata": {},
     "output_type": "execute_result"
    },
    {
     "data": {
      "image/png": "[encoded data removed]",
      "text/plain": [
       "<Figure size 576x432 with 1 Axes>"
      ]
     },
     "metadata": {},
     "output_type": "display_data"
    }
   ],
   "source": [
    "# plot a box plot for the pollutant_max column of the air quality dataset after removing outliers using the quantile method. \n",
    "sns.boxplot(y=\"pollutant_max\", data=td_0)"
   ]
  },
  {
   "cell_type": "markdown",
   "metadata": {},
   "source": [
    "### Outlier capping using custom values"
   ]
  },
  {
   "cell_type": "code",
   "execution_count": 57,
   "metadata": {},
   "outputs": [
    {
     "name": "stdout",
     "output_type": "stream",
     "text": [
      "157.0\n",
      "3.0\n"
     ]
    }
   ],
   "source": [
    "print(td_0.pollutant_avg.max())\n",
    "print(td_0.pollutant_avg.min())"
   ]
  },
  {
   "cell_type": "code",
   "execution_count": 58,
   "metadata": {},
   "outputs": [
    {
     "name": "stdout",
     "output_type": "stream",
     "text": [
      "90.0\n",
      "1.0\n"
     ]
    }
   ],
   "source": [
    "print(td_0.pollutant_min.max())\n",
    "print(td_0.pollutant_min.min())"
   ]
  },
  {
   "cell_type": "code",
   "execution_count": 59,
   "metadata": {},
   "outputs": [
    {
     "name": "stdout",
     "output_type": "stream",
     "text": [
      "278.5\n",
      "4.0\n"
     ]
    }
   ],
   "source": [
    "print(td_0.pollutant_max.max())\n",
    "print(td_0.pollutant_max.min())"
   ]
  },
  {
   "cell_type": "code",
   "execution_count": 60,
   "metadata": {},
   "outputs": [],
   "source": [
    "# replace all the values greater than 50 in the pollutant_avg column of the air quality dataset by 58. Similarly, values \n",
    "# # Less than 10 have been arbitrarily replaced by 20.\n",
    "\n",
    "td_0[\"pollutant_avg\"]= np.where(td_0[\"pollutant_avg\"]> 50, 50, np.where(td_0[\"pollutant_avg\"] < 10, 10, td_0[\"pollutant_avg\"]))"
   ]
  },
  {
   "cell_type": "code",
   "execution_count": 61,
   "metadata": {},
   "outputs": [],
   "source": [
    "# replace all the values greater than 50 in the pollutant_min column of the air quality dataset by 58. Similarly, values \n",
    "# # Less than 10 have been arbitrarily replaced by 20.\n",
    "\n",
    "td_0[\"pollutant_min\"]= np.where(td_0[\"pollutant_min\"]> 50, 50, np.where(td_0[\"pollutant_min\"] < 10, 10, td_0[\"pollutant_min\"]))"
   ]
  },
  {
   "cell_type": "code",
   "execution_count": 62,
   "metadata": {},
   "outputs": [],
   "source": [
    "# replace all the values greater than 50 in the pollutant_max column of the air quality dataset by 58. Similarly, values \n",
    "# # Less than 10 have been arbitrarily replaced by 20.\n",
    "\n",
    "td_0[\"pollutant_max\"]= np.where(td_0[\"pollutant_max\"]> 50, 50, np.where(td_0[\"pollutant_max\"] < 10, 10, td_0[\"pollutant_max\"]))"
   ]
  },
  {
   "cell_type": "code",
   "execution_count": 63,
   "metadata": {},
   "outputs": [
    {
     "name": "stdout",
     "output_type": "stream",
     "text": [
      "50.0\n",
      "10.0\n"
     ]
    }
   ],
   "source": [
    "#now print the maximum and minimum values for the pollutant_avg column of the air quality dataset.\n",
    "\n",
    "print(td_0.pollutant_avg.max())\n",
    "print(td_0.pollutant_avg.min())"
   ]
  },
  {
   "cell_type": "code",
   "execution_count": 64,
   "metadata": {},
   "outputs": [
    {
     "name": "stdout",
     "output_type": "stream",
     "text": [
      "50.0\n",
      "10.0\n"
     ]
    }
   ],
   "source": [
    "#now print the maximum and minimum values for the pollutant_min column of the air quality dataset.\n",
    "\n",
    "print(td_0.pollutant_min.max())\n",
    "print(td_0.pollutant_min.min())"
   ]
  },
  {
   "cell_type": "code",
   "execution_count": 65,
   "metadata": {},
   "outputs": [
    {
     "name": "stdout",
     "output_type": "stream",
     "text": [
      "50.0\n",
      "10.0\n"
     ]
    }
   ],
   "source": [
    "#now print the maximum and minimum values for the pollutant_max column of the air quality dataset.\n",
    "\n",
    "print(td_0.pollutant_max.max())\n",
    "print(td_0.pollutant_max.min())"
   ]
  },
  {
   "cell_type": "code",
   "execution_count": 66,
   "metadata": {},
   "outputs": [
    {
     "data": {
      "text/plain": [
       "<AxesSubplot:ylabel='pollutant_avg'>"
      ]
     },
     "execution_count": 66,
     "metadata": {},
     "output_type": "execute_result"
    },
    {
     "data": {
      "image/png": "[encoded data removed]",
      "text/plain": [
       "<Figure size 576x432 with 1 Axes>"
      ]
     },
     "metadata": {},
     "output_type": "display_data"
    }
   ],
   "source": [
    "sns.boxplot(y=\"pollutant_avg\", data=td_0)"
   ]
  },
  {
   "cell_type": "code",
   "execution_count": 67,
   "metadata": {},
   "outputs": [
    {
     "data": {
      "text/plain": [
       "<AxesSubplot:ylabel='pollutant_min'>"
      ]
     },
     "execution_count": 67,
     "metadata": {},
     "output_type": "execute_result"
    },
    {
     "data": {
      "image/png": "[encoded data removed]",
      "text/plain": [
       "<Figure size 576x432 with 1 Axes>"
      ]
     },
     "metadata": {},
     "output_type": "display_data"
    }
   ],
   "source": [
    "sns.boxplot(y=\"pollutant_min\", data=td_0)"
   ]
  },
  {
   "cell_type": "code",
   "execution_count": 68,
   "metadata": {},
   "outputs": [
    {
     "data": {
      "text/plain": [
       "<AxesSubplot:ylabel='pollutant_max'>"
      ]
     },
     "execution_count": 68,
     "metadata": {},
     "output_type": "execute_result"
    },
    {
     "data": {
      "image/png": "[encoded data removed]",
      "text/plain": [
       "<Figure size 576x432 with 1 Axes>"
      ]
     },
     "metadata": {},
     "output_type": "display_data"
    }
   ],
   "source": [
    "sns.boxplot(y=\"pollutant_max\", data=td_0)"
   ]
  }
 ],
 "metadata": {
  "interpreter": {
   "hash": "916dbcbb3f70747c44a77c7bcd40155683ae19c65e1c03b4aa3499c5328201f1"
  },
  "kernelspec": {
   "display_name": "Python 3.8.10 64-bit",
   "language": "python",
   "name": "python3"
  },
  "language_info": {
   "codemirror_mode": {
    "name": "ipython",
    "version": 3
   },
   "file_extension": ".py",
   "mimetype": "text/x-python",
   "name": "python",
   "nbconvert_exporter": "python",
   "pygments_lexer": "ipython3",
   "version": "3.9.7"
  },
  "orig_nbformat": 4
 },
 "nbformat": 4,
 "nbformat_minor": 2
}
